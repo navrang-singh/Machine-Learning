{
 "cells": [
  {
   "cell_type": "markdown",
   "metadata": {},
   "source": [
    "# Que : 1"
   ]
  },
  {
   "cell_type": "code",
   "execution_count": null,
   "metadata": {},
   "outputs": [],
   "source": [
    "import pandas as pd\n",
    "import numpy as np"
   ]
  },
  {
   "cell_type": "code",
   "execution_count": null,
   "metadata": {},
   "outputs": [],
   "source": [
    "data = pd.read_csv(\"wine.csv\")\n",
    "print(data)"
   ]
  },
  {
   "cell_type": "code",
   "execution_count": null,
   "metadata": {},
   "outputs": [],
   "source": [
    "scores = pd.DataFrame(data)\n",
    "print(scores)"
   ]
  },
  {
   "cell_type": "code",
   "execution_count": null,
   "metadata": {},
   "outputs": [],
   "source": [
    "def find_mean(scores : pd.DataFrame):\n",
    "    print(\" row wise mean := \")\n",
    "    print(scores.mean(axis=1))\n",
    "    print(\"column wise mean := \")\n",
    "    print(scores.mean(axis=0))\n",
    "    print(\"overall mean := \")\n",
    "    print(scores.mean().mean())"
   ]
  },
  {
   "cell_type": "code",
   "execution_count": null,
   "metadata": {},
   "outputs": [],
   "source": [
    "def find_median(scores:pd.DataFrame):\n",
    "    print(\"row wise median := \")\n",
    "    print(scores.median(axis=1))\n",
    "    print(\"column wise median := \")\n",
    "    print(scores.median(axis=0))\n",
    "    print(\"overall median := \")\n",
    "    print(scores.median().median())"
   ]
  },
  {
   "cell_type": "code",
   "execution_count": null,
   "metadata": {},
   "outputs": [],
   "source": [
    "def find_mode(scores:pd.DataFrame):\n",
    "    print(\"row wise mode := \")\n",
    "    print(scores.mode(axis=1))\n",
    "    print(\"column wise mode := \")\n",
    "    print(scores.mode(axis=0))\n",
    "    print(\"overall mode := \")\n",
    "    print(scores.mode().mode())"
   ]
  },
  {
   "cell_type": "code",
   "execution_count": null,
   "metadata": {},
   "outputs": [],
   "source": [
    "def find_std(scores:pd.DataFrame):\n",
    "    print(\"row wise std := \")\n",
    "    print(scores.std(axis=1))\n",
    "    print(\"column wise std := \")\n",
    "    print(scores.std(axis=0))\n",
    "    print(\"overall std := \")\n",
    "    print(scores.std().std())"
   ]
  },
  {
   "cell_type": "code",
   "execution_count": null,
   "metadata": {},
   "outputs": [],
   "source": [
    "find_mean(scores)"
   ]
  },
  {
   "cell_type": "code",
   "execution_count": null,
   "metadata": {},
   "outputs": [],
   "source": [
    "find_median(scores)"
   ]
  },
  {
   "cell_type": "code",
   "execution_count": null,
   "metadata": {},
   "outputs": [],
   "source": [
    "find_mode(scores)"
   ]
  },
  {
   "cell_type": "code",
   "execution_count": null,
   "metadata": {},
   "outputs": [],
   "source": [
    "find_std(scores)"
   ]
  },
  {
   "cell_type": "markdown",
   "metadata": {},
   "source": [
    "## Que 2"
   ]
  },
  {
   "cell_type": "markdown",
   "metadata": {},
   "source": [
    "#### Part : 1"
   ]
  },
  {
   "cell_type": "code",
   "execution_count": null,
   "metadata": {},
   "outputs": [],
   "source": [
    "import pandas as pd\n",
    "import numpy as np"
   ]
  },
  {
   "cell_type": "code",
   "execution_count": null,
   "metadata": {},
   "outputs": [],
   "source": [
    "data = pd.read_csv(\"wine.csv\")\n",
    "score = pd.DataFrame(data)\n",
    "print(score)"
   ]
  },
  {
   "cell_type": "code",
   "execution_count": null,
   "metadata": {},
   "outputs": [],
   "source": [
    "corr = score.corr();\n",
    "print(corr.loc['Alcohol','Proline'])"
   ]
  },
  {
   "cell_type": "code",
   "execution_count": null,
   "metadata": {},
   "outputs": [],
   "source": [
    "feature_mat = score[['Alcohol','Proline','Phenols','Wine','Proanth']]\n",
    "print(feature_mat.cov())"
   ]
  }
 ],
 "metadata": {
  "kernelspec": {
   "display_name": "Python 3.10.1 ('mlpython': venv)",
   "language": "python",
   "name": "python3"
  },
  "language_info": {
   "codemirror_mode": {
    "name": "ipython",
    "version": 3
   },
   "file_extension": ".py",
   "mimetype": "text/x-python",
   "name": "python",
   "nbconvert_exporter": "python",
   "pygments_lexer": "ipython3",
   "version": "3.10.1"
  },
  "orig_nbformat": 4,
  "vscode": {
   "interpreter": {
    "hash": "38a114362924e0464f43fd0ad14d595a99d2cbc72ab252507d2604dcc634f6f5"
   }
  }
 },
 "nbformat": 4,
 "nbformat_minor": 2
}
