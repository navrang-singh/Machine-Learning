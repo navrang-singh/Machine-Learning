{
 "cells": [
  {
   "cell_type": "markdown",
   "metadata": {},
   "source": [
    "# Que : 1"
   ]
  },
  {
   "cell_type": "code",
   "execution_count": 1,
   "metadata": {},
   "outputs": [],
   "source": [
    "import pandas as pd\n",
    "import numpy as np"
   ]
  },
  {
   "cell_type": "code",
   "execution_count": 2,
   "metadata": {},
   "outputs": [
    {
     "name": "stdout",
     "output_type": "stream",
     "text": [
      "     Wine  Alcohol  Malic.acid   Ash   Acl   Mg  Phenols  Flavanoids  \\\n",
      "0       1    14.23        1.71  2.43  15.6  127     2.80        3.06   \n",
      "1       1    13.20        1.78  2.14  11.2  100     2.65        2.76   \n",
      "2       1    13.16        2.36  2.67  18.6  101     2.80        3.24   \n",
      "3       1    14.37        1.95  2.50  16.8  113     3.85        3.49   \n",
      "4       1    13.24        2.59  2.87  21.0  118     2.80        2.69   \n",
      "..    ...      ...         ...   ...   ...  ...      ...         ...   \n",
      "173     3    13.71        5.65  2.45  20.5   95     1.68        0.61   \n",
      "174     3    13.40        3.91  2.48  23.0  102     1.80        0.75   \n",
      "175     3    13.27        4.28  2.26  20.0  120     1.59        0.69   \n",
      "176     3    13.17        2.59  2.37  20.0  120     1.65        0.68   \n",
      "177     3    14.13        4.10  2.74  24.5   96     2.05        0.76   \n",
      "\n",
      "     Nonflavanoid.phenols  Proanth  Color.int   Hue    OD  Proline  \n",
      "0                    0.28     2.29       5.64  1.04  3.92     1065  \n",
      "1                    0.26     1.28       4.38  1.05  3.40     1050  \n",
      "2                    0.30     2.81       5.68  1.03  3.17     1185  \n",
      "3                    0.24     2.18       7.80  0.86  3.45     1480  \n",
      "4                    0.39     1.82       4.32  1.04  2.93      735  \n",
      "..                    ...      ...        ...   ...   ...      ...  \n",
      "173                  0.52     1.06       7.70  0.64  1.74      740  \n",
      "174                  0.43     1.41       7.30  0.70  1.56      750  \n",
      "175                  0.43     1.35      10.20  0.59  1.56      835  \n",
      "176                  0.53     1.46       9.30  0.60  1.62      840  \n",
      "177                  0.56     1.35       9.20  0.61  1.60      560  \n",
      "\n",
      "[178 rows x 14 columns]\n"
     ]
    }
   ],
   "source": [
    "data = pd.read_csv(\"wine.csv\")\n",
    "print(data)"
   ]
  },
  {
   "cell_type": "code",
   "execution_count": 3,
   "metadata": {},
   "outputs": [
    {
     "name": "stdout",
     "output_type": "stream",
     "text": [
      "     Wine  Alcohol  Malic.acid   Ash   Acl   Mg  Phenols  Flavanoids  \\\n",
      "0       1    14.23        1.71  2.43  15.6  127     2.80        3.06   \n",
      "1       1    13.20        1.78  2.14  11.2  100     2.65        2.76   \n",
      "2       1    13.16        2.36  2.67  18.6  101     2.80        3.24   \n",
      "3       1    14.37        1.95  2.50  16.8  113     3.85        3.49   \n",
      "4       1    13.24        2.59  2.87  21.0  118     2.80        2.69   \n",
      "..    ...      ...         ...   ...   ...  ...      ...         ...   \n",
      "173     3    13.71        5.65  2.45  20.5   95     1.68        0.61   \n",
      "174     3    13.40        3.91  2.48  23.0  102     1.80        0.75   \n",
      "175     3    13.27        4.28  2.26  20.0  120     1.59        0.69   \n",
      "176     3    13.17        2.59  2.37  20.0  120     1.65        0.68   \n",
      "177     3    14.13        4.10  2.74  24.5   96     2.05        0.76   \n",
      "\n",
      "     Nonflavanoid.phenols  Proanth  Color.int   Hue    OD  Proline  \n",
      "0                    0.28     2.29       5.64  1.04  3.92     1065  \n",
      "1                    0.26     1.28       4.38  1.05  3.40     1050  \n",
      "2                    0.30     2.81       5.68  1.03  3.17     1185  \n",
      "3                    0.24     2.18       7.80  0.86  3.45     1480  \n",
      "4                    0.39     1.82       4.32  1.04  2.93      735  \n",
      "..                    ...      ...        ...   ...   ...      ...  \n",
      "173                  0.52     1.06       7.70  0.64  1.74      740  \n",
      "174                  0.43     1.41       7.30  0.70  1.56      750  \n",
      "175                  0.43     1.35      10.20  0.59  1.56      835  \n",
      "176                  0.53     1.46       9.30  0.60  1.62      840  \n",
      "177                  0.56     1.35       9.20  0.61  1.60      560  \n",
      "\n",
      "[178 rows x 14 columns]\n"
     ]
    }
   ],
   "source": [
    "scores = pd.DataFrame(data)\n",
    "print(scores)"
   ]
  },
  {
   "cell_type": "code",
   "execution_count": 4,
   "metadata": {},
   "outputs": [],
   "source": [
    "def find_mean(scores : pd.DataFrame):\n",
    "    print(\" row wise mean := \")\n",
    "    print(scores.mean(axis=1))\n",
    "    print(\"column wise mean := \")\n",
    "    print(scores.mean(axis=0))\n",
    "    print(\"overall mean := \")\n",
    "    print(scores.mean().mean())"
   ]
  },
  {
   "cell_type": "code",
   "execution_count": 10,
   "metadata": {},
   "outputs": [],
   "source": [
    "def find_median(scores:pd.DataFrame):\n",
    "    print(\"row wise median := \")\n",
    "    print(scores.median(axis=1))\n",
    "    print(\"column wise median := \")\n",
    "    print(scores.median(axis=0))\n",
    "    print(\"overall median := \")\n",
    "    print(scores.median().median())"
   ]
  },
  {
   "cell_type": "code",
   "execution_count": 11,
   "metadata": {},
   "outputs": [],
   "source": [
    "def find_mode(scores:pd.DataFrame):\n",
    "    print(\"row wise mode := \")\n",
    "    print(scores.mode(axis=1))\n",
    "    print(\"column wise mode := \")\n",
    "    print(scores.mode(axis=0))\n",
    "    print(\"overall mode := \")\n",
    "    print(scores.mode().mode())"
   ]
  },
  {
   "cell_type": "code",
   "execution_count": 12,
   "metadata": {},
   "outputs": [],
   "source": [
    "def find_std(scores:pd.DataFrame):\n",
    "    print(\"row wise std := \")\n",
    "    print(scores.std(axis=1))\n",
    "    print(\"column wise std := \")\n",
    "    print(scores.std(axis=0))\n",
    "    print(\"overall std := \")\n",
    "    print(scores.std().std())"
   ]
  },
  {
   "cell_type": "code",
   "execution_count": 13,
   "metadata": {},
   "outputs": [
    {
     "name": "stdout",
     "output_type": "stream",
     "text": [
      " row wise mean := \n",
      "0       89.000000\n",
      "1       85.364286\n",
      "2       95.915714\n",
      "3      117.963571\n",
      "4       64.977857\n",
      "          ...    \n",
      "173     63.875714\n",
      "174     65.124286\n",
      "175     72.444286\n",
      "176     72.640714\n",
      "177     51.471429\n",
      "Length: 178, dtype: float64\n",
      "column wise mean := \n",
      "Wine                      1.938202\n",
      "Alcohol                  13.000618\n",
      "Malic.acid                2.336348\n",
      "Ash                       2.366517\n",
      "Acl                      19.494944\n",
      "Mg                       99.741573\n",
      "Phenols                   2.295112\n",
      "Flavanoids                2.029270\n",
      "Nonflavanoid.phenols      0.361854\n",
      "Proanth                   1.590899\n",
      "Color.int                 5.058090\n",
      "Hue                       0.957449\n",
      "OD                        2.611685\n",
      "Proline                 746.893258\n",
      "dtype: float64\n",
      "overall mean := \n",
      "64.33398715850721\n"
     ]
    }
   ],
   "source": [
    "find_mean(scores)"
   ]
  },
  {
   "cell_type": "code",
   "execution_count": 14,
   "metadata": {},
   "outputs": [
    {
     "name": "stdout",
     "output_type": "stream",
     "text": [
      "row wise median := \n",
      "0      2.930\n",
      "1      2.705\n",
      "2      2.990\n",
      "3      3.470\n",
      "4      2.835\n",
      "       ...  \n",
      "173    2.725\n",
      "174    2.740\n",
      "175    2.630\n",
      "176    2.480\n",
      "177    2.870\n",
      "Length: 178, dtype: float64\n",
      "column wise median := \n",
      "Wine                      2.000\n",
      "Alcohol                  13.050\n",
      "Malic.acid                1.865\n",
      "Ash                       2.360\n",
      "Acl                      19.500\n",
      "Mg                       98.000\n",
      "Phenols                   2.355\n",
      "Flavanoids                2.135\n",
      "Nonflavanoid.phenols      0.340\n",
      "Proanth                   1.555\n",
      "Color.int                 4.690\n",
      "Hue                       0.965\n",
      "OD                        2.780\n",
      "Proline                 673.500\n",
      "dtype: float64\n",
      "overall median := \n",
      "2.3575\n"
     ]
    }
   ],
   "source": [
    "find_median(scores)"
   ]
  },
  {
   "cell_type": "code",
   "execution_count": 15,
   "metadata": {},
   "outputs": [
    {
     "name": "stdout",
     "output_type": "stream",
     "text": [
      "row wise mode := \n",
      "       0     1     2     3     4     5     6     7     8      9      10    11  \\\n",
      "0    0.28  1.00  1.04  1.71  2.29  2.43  2.80  3.06  3.92   5.64  14.23  15.6   \n",
      "1    0.26  1.00  1.05  1.28  1.78  2.14  2.65  2.76  3.40   4.38  11.20  13.2   \n",
      "2    0.30  1.00  1.03  2.36  2.67  2.80  2.81  3.17  3.24   5.68  13.16  18.6   \n",
      "3    0.24  0.86  1.00  1.95  2.18  2.50  3.45  3.49  3.85   7.80  14.37  16.8   \n",
      "4    0.39  1.00  1.04  1.82  2.59  2.69  2.80  2.87  2.93   4.32  13.24  21.0   \n",
      "..    ...   ...   ...   ...   ...   ...   ...   ...   ...    ...    ...   ...   \n",
      "173  0.52  0.61  0.64  1.06  1.68  1.74  2.45  3.00  5.65   7.70  13.71  20.5   \n",
      "174  0.43  0.70  0.75  1.41  1.56  1.80  2.48  3.00  3.91   7.30  13.40  23.0   \n",
      "175  0.43  0.59  0.69  1.35  1.56  1.59  2.26  3.00  4.28  10.20  13.27  20.0   \n",
      "176  0.53  0.60  0.68  1.46  1.62  1.65  2.37  2.59  3.00   9.30  13.17  20.0   \n",
      "177  0.56  0.61  0.76  1.35  1.60  2.05  2.74  3.00  4.10   9.20  14.13  24.5   \n",
      "\n",
      "        12      13  \n",
      "0    127.0  1065.0  \n",
      "1    100.0  1050.0  \n",
      "2    101.0  1185.0  \n",
      "3    113.0  1480.0  \n",
      "4    118.0   735.0  \n",
      "..     ...     ...  \n",
      "173   95.0   740.0  \n",
      "174  102.0   750.0  \n",
      "175  120.0   835.0  \n",
      "176  120.0   840.0  \n",
      "177   96.0   560.0  \n",
      "\n",
      "[178 rows x 14 columns]\n",
      "column wise mode := \n",
      "   Wine  Alcohol  Malic.acid   Ash   Acl    Mg  Phenols  Flavanoids  \\\n",
      "0   2.0    12.37        1.73  2.28  20.0  88.0      2.2        2.65   \n",
      "1   NaN    13.05         NaN  2.30   NaN   NaN      NaN         NaN   \n",
      "2   NaN      NaN         NaN   NaN   NaN   NaN      NaN         NaN   \n",
      "\n",
      "   Nonflavanoid.phenols  Proanth  Color.int   Hue    OD  Proline  \n",
      "0                  0.26     1.35        2.6  1.04  2.87    520.0  \n",
      "1                  0.43      NaN        3.8   NaN   NaN    680.0  \n",
      "2                   NaN      NaN        4.6   NaN   NaN      NaN  \n",
      "overall mode := \n",
      "   Wine  Alcohol  Malic.acid   Ash   Acl    Mg  Phenols  Flavanoids  \\\n",
      "0   2.0    12.37        1.73  2.28  20.0  88.0      2.2        2.65   \n",
      "1   NaN    13.05         NaN  2.30   NaN   NaN      NaN         NaN   \n",
      "2   NaN      NaN         NaN   NaN   NaN   NaN      NaN         NaN   \n",
      "\n",
      "   Nonflavanoid.phenols  Proanth  Color.int   Hue    OD  Proline  \n",
      "0                  0.26     1.35        2.6  1.04  2.87    520.0  \n",
      "1                  0.43      NaN        3.8   NaN   NaN    680.0  \n",
      "2                   NaN      NaN        4.6   NaN   NaN      NaN  \n"
     ]
    }
   ],
   "source": [
    "find_mode(scores)"
   ]
  },
  {
   "cell_type": "code",
   "execution_count": 16,
   "metadata": {},
   "outputs": [
    {
     "name": "stdout",
     "output_type": "stream",
     "text": [
      "row wise std := \n",
      "0      282.840872\n",
      "1      278.848975\n",
      "2      314.548639\n",
      "3      393.109735\n",
      "4      195.274640\n",
      "          ...    \n",
      "173    196.160444\n",
      "174    198.906389\n",
      "175    221.684271\n",
      "176    223.058533\n",
      "177    148.493305\n",
      "Length: 178, dtype: float64\n",
      "column wise std := \n",
      "Wine                      0.775035\n",
      "Alcohol                   0.811827\n",
      "Malic.acid                1.117146\n",
      "Ash                       0.274344\n",
      "Acl                       3.339564\n",
      "Mg                       14.282484\n",
      "Phenols                   0.625851\n",
      "Flavanoids                0.998859\n",
      "Nonflavanoid.phenols      0.124453\n",
      "Proanth                   0.572359\n",
      "Color.int                 2.318286\n",
      "Hue                       0.228572\n",
      "OD                        0.709990\n",
      "Proline                 314.907474\n",
      "dtype: float64\n",
      "overall std := \n",
      "83.70374413059446\n"
     ]
    }
   ],
   "source": [
    "find_std(scores)"
   ]
  },
  {
   "cell_type": "markdown",
   "metadata": {},
   "source": [
    "## Que 2"
   ]
  },
  {
   "cell_type": "markdown",
   "metadata": {},
   "source": [
    "#### Part : 1"
   ]
  },
  {
   "cell_type": "code",
   "execution_count": 17,
   "metadata": {},
   "outputs": [],
   "source": [
    "import pandas as pd\n",
    "import numpy as np"
   ]
  },
  {
   "cell_type": "code",
   "execution_count": 18,
   "metadata": {},
   "outputs": [
    {
     "name": "stdout",
     "output_type": "stream",
     "text": [
      "     Wine  Alcohol  Malic.acid   Ash   Acl   Mg  Phenols  Flavanoids  \\\n",
      "0       1    14.23        1.71  2.43  15.6  127     2.80        3.06   \n",
      "1       1    13.20        1.78  2.14  11.2  100     2.65        2.76   \n",
      "2       1    13.16        2.36  2.67  18.6  101     2.80        3.24   \n",
      "3       1    14.37        1.95  2.50  16.8  113     3.85        3.49   \n",
      "4       1    13.24        2.59  2.87  21.0  118     2.80        2.69   \n",
      "..    ...      ...         ...   ...   ...  ...      ...         ...   \n",
      "173     3    13.71        5.65  2.45  20.5   95     1.68        0.61   \n",
      "174     3    13.40        3.91  2.48  23.0  102     1.80        0.75   \n",
      "175     3    13.27        4.28  2.26  20.0  120     1.59        0.69   \n",
      "176     3    13.17        2.59  2.37  20.0  120     1.65        0.68   \n",
      "177     3    14.13        4.10  2.74  24.5   96     2.05        0.76   \n",
      "\n",
      "     Nonflavanoid.phenols  Proanth  Color.int   Hue    OD  Proline  \n",
      "0                    0.28     2.29       5.64  1.04  3.92     1065  \n",
      "1                    0.26     1.28       4.38  1.05  3.40     1050  \n",
      "2                    0.30     2.81       5.68  1.03  3.17     1185  \n",
      "3                    0.24     2.18       7.80  0.86  3.45     1480  \n",
      "4                    0.39     1.82       4.32  1.04  2.93      735  \n",
      "..                    ...      ...        ...   ...   ...      ...  \n",
      "173                  0.52     1.06       7.70  0.64  1.74      740  \n",
      "174                  0.43     1.41       7.30  0.70  1.56      750  \n",
      "175                  0.43     1.35      10.20  0.59  1.56      835  \n",
      "176                  0.53     1.46       9.30  0.60  1.62      840  \n",
      "177                  0.56     1.35       9.20  0.61  1.60      560  \n",
      "\n",
      "[178 rows x 14 columns]\n"
     ]
    }
   ],
   "source": [
    "data = pd.read_csv(\"wine.csv\")\n",
    "score = pd.DataFrame(data)\n",
    "print(score)"
   ]
  },
  {
   "cell_type": "code",
   "execution_count": 19,
   "metadata": {},
   "outputs": [
    {
     "name": "stdout",
     "output_type": "stream",
     "text": [
      "0.6437200371782134\n"
     ]
    }
   ],
   "source": [
    "corr = score.corr();\n",
    "print(corr.loc['Alcohol','Proline'])"
   ]
  },
  {
   "cell_type": "code",
   "execution_count": 20,
   "metadata": {},
   "outputs": [
    {
     "name": "stdout",
     "output_type": "stream",
     "text": [
      "            Alcohol       Proline    Phenols        Wine    Proanth\n",
      "Alcohol    0.659062    164.567185   0.146887   -0.206515   0.063518\n",
      "Proline  164.567185  99166.717355  98.171057 -154.667651  59.554334\n",
      "Phenols    0.146887     98.171057   0.391690   -0.348835   0.219373\n",
      "Wine      -0.206515   -154.667651  -0.348835    0.600679  -0.221413\n",
      "Proanth    0.063518     59.554334   0.219373   -0.221413   0.327595\n"
     ]
    }
   ],
   "source": [
    "feature_mat = score[['Alcohol','Proline','Phenols','Wine','Proanth']]\n",
    "print(feature_mat.cov())"
   ]
  }
 ],
 "metadata": {
  "kernelspec": {
   "display_name": "Python 3.10.1 ('mlpython': venv)",
   "language": "python",
   "name": "python3"
  },
  "language_info": {
   "codemirror_mode": {
    "name": "ipython",
    "version": 3
   },
   "file_extension": ".py",
   "mimetype": "text/x-python",
   "name": "python",
   "nbconvert_exporter": "python",
   "pygments_lexer": "ipython3",
   "version": "3.10.1"
  },
  "orig_nbformat": 4,
  "vscode": {
   "interpreter": {
    "hash": "38a114362924e0464f43fd0ad14d595a99d2cbc72ab252507d2604dcc634f6f5"
   }
  }
 },
 "nbformat": 4,
 "nbformat_minor": 2
}
