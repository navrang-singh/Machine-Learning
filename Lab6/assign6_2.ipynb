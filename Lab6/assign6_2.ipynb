{
 "cells": [
  {
   "cell_type": "code",
   "execution_count": 1,
   "metadata": {},
   "outputs": [],
   "source": [
    "import numpy as np"
   ]
  },
  {
   "cell_type": "code",
   "execution_count": 2,
   "metadata": {},
   "outputs": [],
   "source": [
    "input = [0.3,0.8]\n",
    "output = [0.05,0.6]"
   ]
  },
  {
   "cell_type": "code",
   "execution_count": 3,
   "metadata": {},
   "outputs": [
    {
     "name": "stdout",
     "output_type": "stream",
     "text": [
      "[0.3 0.8]\n",
      "[0.05 0.6 ]\n"
     ]
    }
   ],
   "source": [
    "input = input/np.array([1,1])\n",
    "output = output/np.array([1,1])\n",
    "\n",
    "print(input)\n",
    "print(output)"
   ]
  },
  {
   "cell_type": "code",
   "execution_count": 4,
   "metadata": {},
   "outputs": [],
   "source": [
    "class NeuralNetwork(object):\n",
    "    def __init__(self):\n",
    "        self.input_layer = 2\n",
    "        self.hidden_layer = 2\n",
    "        self.output_layer = 2\n",
    "\n",
    "        self.weight_mat1 = np.array([[0.1,0.3],[0.25,0.8]]) \n",
    "        self.weight_mat2 = np.array([[0.2,0.6],[0.4,0.7]]) \n",
    "\n",
    "        \n",
    "    def feedForward(self, X):\n",
    "        self.z = np.dot(X, self.weight_mat1) \n",
    "        self.z2 = self.sigmoid(self.z) \n",
    "        self.z3 = np.dot(self.z2, self.weight_mat2) \n",
    "        return output\n",
    "        \n",
    "    def sigmoid(self, s, deriv=False):\n",
    "        if (deriv == True):\n",
    "            return s * (1 - s)\n",
    "        return 1/(1 + np.exp(-s))\n",
    "    \n",
    "    def backward(self, X, y, output):\n",
    "        self.output_error = y - output \n",
    "        self.output_delta = self.output_error * self.sigmoid(output, deriv=True)\n",
    "        \n",
    "        self.z2_error = self.output_delta.dot(self.weight_mat2.T) \n",
    "        self.z2_delta = self.z2_error * self.sigmoid(self.z2, deriv=True)\n",
    "        \n",
    "        self.weight_mat1 += X.T.dot(self.z2_delta) \n",
    "        self.weight_mat2 += self.z2.T.dot(self.output_delta)\n",
    "        \n",
    "    def train(self, X, y):\n",
    "        output = self.feedForward(X)\n",
    "        self.backward(X, y, output)"
   ]
  },
  {
   "cell_type": "code",
   "execution_count": 5,
   "metadata": {},
   "outputs": [
    {
     "name": "stdout",
     "output_type": "stream",
     "text": [
      "Input:  [0.3 0.8]\n",
      "Actual Output:  [0.05 0.6 ]\n",
      "Loss:  0.0\n",
      "Predicted Output:  [0.05 0.6 ]\n"
     ]
    }
   ],
   "source": [
    "BPNN = NeuralNetwork()\n",
    "\n",
    "for i in range(1000):\n",
    "    BPNN.train(input, output)\n",
    "        \n",
    "print(\"Input: \",input)\n",
    "print(\"Actual Output: \",output)\n",
    "print(\"Loss: \",np.mean(np.square(output - BPNN.feedForward(input))))\n",
    "print(\"Predicted Output: \",BPNN.feedForward(input))"
   ]
  }
 ],
 "metadata": {
  "kernelspec": {
   "display_name": "Python 3.10.1 ('mlpython': venv)",
   "language": "python",
   "name": "python3"
  },
  "language_info": {
   "codemirror_mode": {
    "name": "ipython",
    "version": 3
   },
   "file_extension": ".py",
   "mimetype": "text/x-python",
   "name": "python",
   "nbconvert_exporter": "python",
   "pygments_lexer": "ipython3",
   "version": "3.10.1"
  },
  "orig_nbformat": 4,
  "vscode": {
   "interpreter": {
    "hash": "a58a05e89c12b3f4ae4e11e606f896b129694445df3e4fafe219fa71e4f9c2b4"
   }
  }
 },
 "nbformat": 4,
 "nbformat_minor": 2
}
