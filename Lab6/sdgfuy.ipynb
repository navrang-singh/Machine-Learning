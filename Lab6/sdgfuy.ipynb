{
 "cells": [
  {
   "cell_type": "code",
   "execution_count": 27,
   "metadata": {},
   "outputs": [],
   "source": [
    "import numpy as np\n",
    "from matplotlib import style\n",
    "import matplotlib.pyplot as plt "
   ]
  },
  {
   "cell_type": "code",
   "execution_count": 28,
   "metadata": {},
   "outputs": [],
   "source": [
    "learning_rates = [0.0001,0.0002,0.0003,0.0004,0.0005]\n",
    "weights = np.random.default_rng().uniform(low=-0.3, high=0.3, size=(3, 1))\n",
    "bias = 1"
   ]
  },
  {
   "cell_type": "code",
   "execution_count": 29,
   "metadata": {},
   "outputs": [],
   "source": [
    "def func(input1,input2,output,index):\n",
    "    output_generated = input1*weights[0]+input2*weights[1]+bias*weights[2]\n",
    "    output_generated = 1.0/(1+np.exp(-output_generated))\n",
    "    error = output - output_generated\n",
    "    weights[0] += error*input1*learning_rates[index]\n",
    "    weights[1] += error*input2*learning_rates[index]\n",
    "    weights[2] += error*bias*learning_rates[index]\n",
    "    if((output_generated > 0.5 and output == 1)or(output_generated <= 0.5 and output == 0)):\n",
    "        return 1\n",
    "    else:\n",
    "        return 0"
   ]
  },
  {
   "cell_type": "code",
   "execution_count": 47,
   "metadata": {},
   "outputs": [],
   "source": [
    "def training_func_or():\n",
    "    accuracy_list = []\n",
    "    for i in range(5):\n",
    "        correct_output = 0\n",
    "        for j in range(100):\n",
    "            correct_output += func(0,0,0,i)\n",
    "            correct_output += func(0,1,1,i)\n",
    "            correct_output += func(1,0,1,i)\n",
    "            correct_output += func(1,1,1,i)\n",
    "        \n",
    "        accuracy = 100 * correct_output/400\n",
    "        accuracy_list.append(100)\n",
    "        print(accuracy,\"accurancy at learning rate = \",learning_rates[i])\n",
    "    \n",
    "    \n",
    "    \n"
   ]
  },
  {
   "cell_type": "code",
   "execution_count": 45,
   "metadata": {},
   "outputs": [],
   "source": [
    "def training_func_and():\n",
    "    accuracy_list = []\n",
    "    for i in range(5):\n",
    "        correct_output = 0\n",
    "        for j in range(100):\n",
    "            correct_output += func(0,0,0,i)\n",
    "            correct_output += func(0,1,0,i)\n",
    "            correct_output += func(1,0,0,i)\n",
    "            correct_output += func(1,1,1,i)\n",
    "        \n",
    "        accuracy = 100 * correct_output/400\n",
    "        accuracy_list.append(100)\n",
    "        print(accuracy,\"accurancy at learning rate = \",learning_rates[i])"
   ]
  },
  {
   "cell_type": "code",
   "execution_count": null,
   "metadata": {},
   "outputs": [],
   "source": [
    "# def plot_graph(x_data,y_data,type,learning_rate):\n",
    "#     style.use('seaborn')\n",
    "#     plt.xlabel(\"x_axis\", fontsize=15)\n",
    "#     plt.ylabel(\"y_axis\", fontsize=15)\n",
    "#     plt.scatter(x_data[:,0], x_data[:,1], marker=\"o\", c=y_data, s=25, edgecolor=\"blue\")\n",
    "#     plt.title(f'Accurancy vs learning rate for {type} gate with learning rate {learning_rate}')"
   ]
  },
  {
   "cell_type": "code",
   "execution_count": 52,
   "metadata": {},
   "outputs": [
    {
     "name": "stdout",
     "output_type": "stream",
     "text": [
      "100.0 accurancy at learning rate =  0.0001\n",
      "100.0 accurancy at learning rate =  0.0002\n",
      "100.0 accurancy at learning rate =  0.0003\n",
      "100.0 accurancy at learning rate =  0.0004\n",
      "100.0 accurancy at learning rate =  0.0005\n"
     ]
    }
   ],
   "source": [
    "training_func_or()"
   ]
  },
  {
   "cell_type": "code",
   "execution_count": 57,
   "metadata": {},
   "outputs": [
    {
     "name": "stdout",
     "output_type": "stream",
     "text": [
      "100.0 accurancy at learning rate =  0.0001\n",
      "100.0 accurancy at learning rate =  0.0002\n",
      "100.0 accurancy at learning rate =  0.0003\n",
      "100.0 accurancy at learning rate =  0.0004\n",
      "100.0 accurancy at learning rate =  0.0005\n"
     ]
    }
   ],
   "source": [
    "training_func_and()"
   ]
  }
 ],
 "metadata": {
  "kernelspec": {
   "display_name": "Python 3.10.1 ('mlpython': venv)",
   "language": "python",
   "name": "python3"
  },
  "language_info": {
   "codemirror_mode": {
    "name": "ipython",
    "version": 3
   },
   "file_extension": ".py",
   "mimetype": "text/x-python",
   "name": "python",
   "nbconvert_exporter": "python",
   "pygments_lexer": "ipython3",
   "version": "3.10.1"
  },
  "orig_nbformat": 4,
  "vscode": {
   "interpreter": {
    "hash": "a58a05e89c12b3f4ae4e11e606f896b129694445df3e4fafe219fa71e4f9c2b4"
   }
  }
 },
 "nbformat": 4,
 "nbformat_minor": 2
}
