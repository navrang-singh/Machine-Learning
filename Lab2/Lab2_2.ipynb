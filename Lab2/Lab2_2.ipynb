{
 "cells": [
  {
   "cell_type": "markdown",
   "metadata": {},
   "source": [
    "# Question 2"
   ]
  },
  {
   "cell_type": "code",
   "execution_count": 1,
   "metadata": {},
   "outputs": [],
   "source": [
    "import pandas as pd\n",
    "import numpy as np\n",
    "from sklearn import linear_model\n",
    "from matplotlib import style\n",
    "import matplotlib.pyplot as plt \n",
    "from sklearn import datasets\n",
    "from sklearn.model_selection import train_test_split"
   ]
  },
  {
   "cell_type": "code",
   "execution_count": 25,
   "metadata": {},
   "outputs": [
    {
     "name": "stderr",
     "output_type": "stream",
     "text": [
      "e:\\IIIT-G\\CS360 - Machine Learning Lab\\mlpython\\lib\\site-packages\\sklearn\\utils\\deprecation.py:87: FutureWarning: Function load_boston is deprecated; `load_boston` is deprecated in 1.0 and will be removed in 1.2.\n",
      "\n",
      "    The Boston housing prices dataset has an ethical problem. You can refer to\n",
      "    the documentation of this function for further details.\n",
      "\n",
      "    The scikit-learn maintainers therefore strongly discourage the use of this\n",
      "    dataset unless the purpose of the code is to study and educate about\n",
      "    ethical issues in data science and machine learning.\n",
      "\n",
      "    In this special case, you can fetch the dataset from the original\n",
      "    source::\n",
      "\n",
      "        import pandas as pd\n",
      "        import numpy as np\n",
      "\n",
      "        data_url = \"http://lib.stat.cmu.edu/datasets/boston\"\n",
      "        raw_df = pd.read_csv(data_url, sep=\"\\s+\", skiprows=22, header=None)\n",
      "        data = np.hstack([raw_df.values[::2, :], raw_df.values[1::2, :2]])\n",
      "        target = raw_df.values[1::2, 2]\n",
      "\n",
      "    Alternative datasets include the California housing dataset (i.e.\n",
      "    :func:`~sklearn.datasets.fetch_california_housing`) and the Ames housing\n",
      "    dataset. You can load the datasets as follows::\n",
      "\n",
      "        from sklearn.datasets import fetch_california_housing\n",
      "        housing = fetch_california_housing()\n",
      "\n",
      "    for the California housing dataset and::\n",
      "\n",
      "        from sklearn.datasets import fetch_openml\n",
      "        housing = fetch_openml(name=\"house_prices\", as_frame=True)\n",
      "\n",
      "    for the Ames housing dataset.\n",
      "  warnings.warn(msg, category=FutureWarning)\n"
     ]
    }
   ],
   "source": [
    "boston = datasets.load_boston()"
   ]
  },
  {
   "cell_type": "code",
   "execution_count": 26,
   "metadata": {},
   "outputs": [],
   "source": [
    "x_values = pd.DataFrame(boston.data,columns=boston.feature_names)\n",
    "y_values = pd.DataFrame(boston.target)"
   ]
  },
  {
   "cell_type": "code",
   "execution_count": 27,
   "metadata": {},
   "outputs": [],
   "source": [
    "reg = linear_model.LinearRegression()"
   ]
  },
  {
   "cell_type": "code",
   "execution_count": 28,
   "metadata": {},
   "outputs": [],
   "source": [
    "x_train,x_test,y_train,y_test = train_test_split(x_values,y_values,test_size=0.33)"
   ]
  },
  {
   "cell_type": "code",
   "execution_count": 29,
   "metadata": {},
   "outputs": [
    {
     "data": {
      "text/html": [
       "<style>#sk-container-id-5 {color: black;background-color: white;}#sk-container-id-5 pre{padding: 0;}#sk-container-id-5 div.sk-toggleable {background-color: white;}#sk-container-id-5 label.sk-toggleable__label {cursor: pointer;display: block;width: 100%;margin-bottom: 0;padding: 0.3em;box-sizing: border-box;text-align: center;}#sk-container-id-5 label.sk-toggleable__label-arrow:before {content: \"▸\";float: left;margin-right: 0.25em;color: #696969;}#sk-container-id-5 label.sk-toggleable__label-arrow:hover:before {color: black;}#sk-container-id-5 div.sk-estimator:hover label.sk-toggleable__label-arrow:before {color: black;}#sk-container-id-5 div.sk-toggleable__content {max-height: 0;max-width: 0;overflow: hidden;text-align: left;background-color: #f0f8ff;}#sk-container-id-5 div.sk-toggleable__content pre {margin: 0.2em;color: black;border-radius: 0.25em;background-color: #f0f8ff;}#sk-container-id-5 input.sk-toggleable__control:checked~div.sk-toggleable__content {max-height: 200px;max-width: 100%;overflow: auto;}#sk-container-id-5 input.sk-toggleable__control:checked~label.sk-toggleable__label-arrow:before {content: \"▾\";}#sk-container-id-5 div.sk-estimator input.sk-toggleable__control:checked~label.sk-toggleable__label {background-color: #d4ebff;}#sk-container-id-5 div.sk-label input.sk-toggleable__control:checked~label.sk-toggleable__label {background-color: #d4ebff;}#sk-container-id-5 input.sk-hidden--visually {border: 0;clip: rect(1px 1px 1px 1px);clip: rect(1px, 1px, 1px, 1px);height: 1px;margin: -1px;overflow: hidden;padding: 0;position: absolute;width: 1px;}#sk-container-id-5 div.sk-estimator {font-family: monospace;background-color: #f0f8ff;border: 1px dotted black;border-radius: 0.25em;box-sizing: border-box;margin-bottom: 0.5em;}#sk-container-id-5 div.sk-estimator:hover {background-color: #d4ebff;}#sk-container-id-5 div.sk-parallel-item::after {content: \"\";width: 100%;border-bottom: 1px solid gray;flex-grow: 1;}#sk-container-id-5 div.sk-label:hover label.sk-toggleable__label {background-color: #d4ebff;}#sk-container-id-5 div.sk-serial::before {content: \"\";position: absolute;border-left: 1px solid gray;box-sizing: border-box;top: 0;bottom: 0;left: 50%;z-index: 0;}#sk-container-id-5 div.sk-serial {display: flex;flex-direction: column;align-items: center;background-color: white;padding-right: 0.2em;padding-left: 0.2em;position: relative;}#sk-container-id-5 div.sk-item {position: relative;z-index: 1;}#sk-container-id-5 div.sk-parallel {display: flex;align-items: stretch;justify-content: center;background-color: white;position: relative;}#sk-container-id-5 div.sk-item::before, #sk-container-id-5 div.sk-parallel-item::before {content: \"\";position: absolute;border-left: 1px solid gray;box-sizing: border-box;top: 0;bottom: 0;left: 50%;z-index: -1;}#sk-container-id-5 div.sk-parallel-item {display: flex;flex-direction: column;z-index: 1;position: relative;background-color: white;}#sk-container-id-5 div.sk-parallel-item:first-child::after {align-self: flex-end;width: 50%;}#sk-container-id-5 div.sk-parallel-item:last-child::after {align-self: flex-start;width: 50%;}#sk-container-id-5 div.sk-parallel-item:only-child::after {width: 0;}#sk-container-id-5 div.sk-dashed-wrapped {border: 1px dashed gray;margin: 0 0.4em 0.5em 0.4em;box-sizing: border-box;padding-bottom: 0.4em;background-color: white;}#sk-container-id-5 div.sk-label label {font-family: monospace;font-weight: bold;display: inline-block;line-height: 1.2em;}#sk-container-id-5 div.sk-label-container {text-align: center;}#sk-container-id-5 div.sk-container {/* jupyter's `normalize.less` sets `[hidden] { display: none; }` but bootstrap.min.css set `[hidden] { display: none !important; }` so we also need the `!important` here to be able to override the default hidden behavior on the sphinx rendered scikit-learn.org. See: https://github.com/scikit-learn/scikit-learn/issues/21755 */display: inline-block !important;position: relative;}#sk-container-id-5 div.sk-text-repr-fallback {display: none;}</style><div id=\"sk-container-id-5\" class=\"sk-top-container\"><div class=\"sk-text-repr-fallback\"><pre>LinearRegression()</pre><b>In a Jupyter environment, please rerun this cell to show the HTML representation or trust the notebook. <br />On GitHub, the HTML representation is unable to render, please try loading this page with nbviewer.org.</b></div><div class=\"sk-container\" hidden><div class=\"sk-item\"><div class=\"sk-estimator sk-toggleable\"><input class=\"sk-toggleable__control sk-hidden--visually\" id=\"sk-estimator-id-5\" type=\"checkbox\" checked><label for=\"sk-estimator-id-5\" class=\"sk-toggleable__label sk-toggleable__label-arrow\">LinearRegression</label><div class=\"sk-toggleable__content\"><pre>LinearRegression()</pre></div></div></div></div></div>"
      ],
      "text/plain": [
       "LinearRegression()"
      ]
     },
     "execution_count": 29,
     "metadata": {},
     "output_type": "execute_result"
    }
   ],
   "source": [
    "reg.fit(x_train,y_train)"
   ]
  },
  {
   "cell_type": "code",
   "execution_count": 30,
   "metadata": {},
   "outputs": [
    {
     "name": "stdout",
     "output_type": "stream",
     "text": [
      "[[ 6.50581746]\n",
      " [29.18025808]\n",
      " [37.54423993]\n",
      " [22.33818431]\n",
      " [20.01444319]\n",
      " [16.51350085]\n",
      " [41.00918481]\n",
      " [24.85145966]\n",
      " [18.48030547]\n",
      " [ 6.21060058]\n",
      " [13.36365418]\n",
      " [20.71106391]\n",
      " [12.56426579]\n",
      " [ 4.36398725]\n",
      " [28.17539755]\n",
      " [16.30142182]\n",
      " [25.25860593]\n",
      " [17.35340588]\n",
      " [29.2987744 ]\n",
      " [19.61155685]\n",
      " [20.95383979]\n",
      " [ 8.47154609]\n",
      " [28.62485628]\n",
      " [19.21233204]\n",
      " [16.48770492]\n",
      " [11.16687882]\n",
      " [15.92504251]\n",
      " [15.38550847]\n",
      " [ 7.93036567]\n",
      " [20.09946263]\n",
      " [22.64669369]\n",
      " [31.41362859]\n",
      " [21.4250142 ]\n",
      " [24.55423548]\n",
      " [14.37240519]\n",
      " [20.08466658]\n",
      " [14.56333268]\n",
      " [31.24614707]\n",
      " [31.63135511]\n",
      " [33.32428352]\n",
      " [20.79347614]\n",
      " [14.2495673 ]\n",
      " [22.02923138]\n",
      " [25.13500753]\n",
      " [22.72743296]\n",
      " [28.57483648]\n",
      " [16.80209122]\n",
      " [20.19288989]\n",
      " [20.24755073]\n",
      " [24.29525708]\n",
      " [28.85886257]\n",
      " [18.31560591]\n",
      " [25.24779004]\n",
      " [25.06250765]\n",
      " [22.86787976]\n",
      " [34.13356987]\n",
      " [20.85374524]\n",
      " [20.18560706]\n",
      " [30.23733718]\n",
      " [42.2863065 ]\n",
      " [19.80350128]\n",
      " [31.92079537]\n",
      " [19.59876525]\n",
      " [35.87571035]\n",
      " [26.56662119]\n",
      " [33.6687622 ]\n",
      " [10.36695569]\n",
      " [14.13892046]\n",
      " [24.75461913]\n",
      " [36.57279114]\n",
      " [13.07613633]\n",
      " [ 5.99101346]\n",
      " [ 7.28372664]\n",
      " [24.96456657]\n",
      " [12.30378981]\n",
      " [ 5.48821736]\n",
      " [ 9.64475828]\n",
      " [13.82331832]\n",
      " [12.7094255 ]\n",
      " [19.03544924]\n",
      " [23.71961678]\n",
      " [21.33175466]\n",
      " [19.43014742]\n",
      " [21.15954782]\n",
      " [20.88491654]\n",
      " [26.44797706]\n",
      " [18.84918973]\n",
      " [21.86181171]\n",
      " [21.90738307]\n",
      " [26.46930987]\n",
      " [21.35918395]\n",
      " [21.26185574]\n",
      " [19.2609691 ]\n",
      " [17.16693856]\n",
      " [32.74054934]\n",
      " [34.54032223]\n",
      " [27.82594492]\n",
      " [34.19259629]\n",
      " [17.62617798]\n",
      " [22.11217624]\n",
      " [27.05020169]\n",
      " [13.80818429]\n",
      " [41.30357995]\n",
      " [30.61388227]\n",
      " [ 8.16434726]\n",
      " [24.143061  ]\n",
      " [14.70886197]\n",
      " [15.80319526]\n",
      " [17.59350606]\n",
      " [22.09101866]\n",
      " [19.49221604]\n",
      " [12.38476298]\n",
      " [35.78143787]\n",
      " [24.70007606]\n",
      " [30.86949175]\n",
      " [23.91996857]\n",
      " [30.23263219]\n",
      " [20.01060154]\n",
      " [18.50511995]\n",
      " [19.97559865]\n",
      " [20.20042576]\n",
      " [20.79668578]\n",
      " [19.61857532]\n",
      " [14.48875641]\n",
      " [20.46119669]\n",
      " [19.66940944]\n",
      " [32.59972806]\n",
      " [27.29361615]\n",
      " [23.57984885]\n",
      " [24.50967918]\n",
      " [10.79210517]\n",
      " [14.19068031]\n",
      " [16.77048481]\n",
      " [29.05076251]\n",
      " [20.53323389]\n",
      " [27.79732114]\n",
      " [ 5.73340121]\n",
      " [ 8.4700322 ]\n",
      " [15.50572773]\n",
      " [ 2.75850344]\n",
      " [12.95360899]\n",
      " [22.54795329]\n",
      " [19.08268023]\n",
      " [19.29636396]\n",
      " [26.987945  ]\n",
      " [18.50068032]\n",
      " [20.2553087 ]\n",
      " [20.28767701]\n",
      " [33.30707335]\n",
      " [13.54585885]\n",
      " [25.11826525]\n",
      " [22.65264377]\n",
      " [34.80509324]\n",
      " [20.83154227]\n",
      " [24.56544448]\n",
      " [23.21403336]\n",
      " [ 9.93140089]\n",
      " [34.33740299]\n",
      " [36.42498619]\n",
      " [22.27598405]\n",
      " [18.55290291]\n",
      " [15.01515105]\n",
      " [14.50128967]\n",
      " [22.64491537]\n",
      " [23.43175217]\n",
      " [21.07117767]\n",
      " [19.85908627]]\n"
     ]
    }
   ],
   "source": [
    "y_pred = reg.predict(x_test)\n",
    "print(y_pred)"
   ]
  },
  {
   "cell_type": "code",
   "execution_count": 31,
   "metadata": {},
   "outputs": [
    {
     "name": "stdout",
     "output_type": "stream",
     "text": [
      "0.7627301181296393\n"
     ]
    }
   ],
   "source": [
    "accuracy = reg.score(x_test, y_test)\n",
    "print(accuracy)"
   ]
  }
 ],
 "metadata": {
  "kernelspec": {
   "display_name": "Python 3.10.1 ('mlpython': venv)",
   "language": "python",
   "name": "python3"
  },
  "language_info": {
   "codemirror_mode": {
    "name": "ipython",
    "version": 3
   },
   "file_extension": ".py",
   "mimetype": "text/x-python",
   "name": "python",
   "nbconvert_exporter": "python",
   "pygments_lexer": "ipython3",
   "version": "3.10.1"
  },
  "orig_nbformat": 4,
  "vscode": {
   "interpreter": {
    "hash": "38a114362924e0464f43fd0ad14d595a99d2cbc72ab252507d2604dcc634f6f5"
   }
  }
 },
 "nbformat": 4,
 "nbformat_minor": 2
}
