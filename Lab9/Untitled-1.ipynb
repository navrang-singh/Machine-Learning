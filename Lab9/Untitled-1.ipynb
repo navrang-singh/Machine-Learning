{
 "cells": [
  {
   "cell_type": "code",
   "execution_count": 34,
   "metadata": {},
   "outputs": [],
   "source": [
    "import numpy as np\n",
    "import pandas as pd\n",
    "import matplotlib.pyplot as plt\n",
    "from sklearn.metrics import silhouette_score\n",
    "from sklearn.datasets import load_iris"
   ]
  },
  {
   "cell_type": "code",
   "execution_count": 2,
   "metadata": {},
   "outputs": [],
   "source": [
    "class GMM:\n",
    "    def __init__(self, n_components, max_iter = 100, comp_names=None):\n",
    "        \n",
    "        self.n_componets = n_components\n",
    "        self.max_iter = max_iter\n",
    "        if comp_names == None:\n",
    "            self.comp_names = [f\"comp{index}\" for index in range(self.n_componets)]\n",
    "        else:\n",
    "            self.comp_names = comp_names\n",
    "        self.pi = [1/self.n_componets for comp in range(self.n_componets)]\n",
    "\n",
    "    def multivariate_normal(self, X, mean_vector, covariance_matrix):\n",
    "        return (2*np.pi)**(-len(X)/2)*np.linalg.det(covariance_matrix)**(-1/2)*np.exp(-np.dot(np.dot((X-mean_vector).T, np.linalg.inv(covariance_matrix)), (X-mean_vector))/2)\n",
    "\n",
    "    def fit(self, X):\n",
    "        new_X = np.array_split(X, self.n_componets)\n",
    "        self.mean_vector = [np.mean(x, axis=0) for x in new_X]\n",
    "        self.covariance_matrixes = [np.cov(x.T) for x in new_X]\n",
    "        del new_X\n",
    "        for iteration in range(self.max_iter):\n",
    "            \n",
    "            self.r = np.zeros((len(X), self.n_componets))\n",
    "            for n in range(len(X)):\n",
    "                for k in range(self.n_componets):\n",
    "                    self.r[n][k] = self.pi[k] * self.multivariate_normal(X[n], self.mean_vector[k], self.covariance_matrixes[k])\n",
    "                    self.r[n][k] /= sum([self.pi[j]*self.multivariate_normal(X[n], self.mean_vector[j], self.covariance_matrixes[j]) for j in range(self.n_componets)])\n",
    "            N = np.sum(self.r, axis=0)\n",
    "            self.mean_vector = np.zeros((self.n_componets, len(X[0])))\n",
    "            for k in range(self.n_componets):\n",
    "                for n in range(len(X)):\n",
    "                    self.mean_vector[k] += self.r[n][k] * X[n]\n",
    "            self.mean_vector = [1/N[k]*self.mean_vector[k] for k in range(self.n_componets)]\n",
    "            self.covariance_matrixes = [np.zeros((len(X[0]), len(X[0]))) for k in range(self.n_componets)]\n",
    "            for k in range(self.n_componets):\n",
    "                self.covariance_matrixes[k] = np.cov(X.T, aweights=(self.r[:, k]), ddof=0)\n",
    "            self.covariance_matrixes = [1/N[k]*self.covariance_matrixes[k] for k in range(self.n_componets)]\n",
    "            self.pi = [N[k]/len(X) for k in range(self.n_componets)]\n",
    "    def predict(self, X):\n",
    "        \n",
    "        probas = []\n",
    "        for n in range(len(X)):\n",
    "            probas.append([self.multivariate_normal(X[n], self.mean_vector[k], self.covariance_matrixes[k])\n",
    "                           for k in range(self.n_componets)])\n",
    "        cluster = []\n",
    "        for proba in probas:\n",
    "            cluster.append(self.comp_names[proba.index(max(proba))])\n",
    "        return cluster"
   ]
  },
  {
   "cell_type": "code",
   "execution_count": 3,
   "metadata": {},
   "outputs": [
    {
     "data": {
      "text/plain": [
       "numpy.ndarray"
      ]
     },
     "execution_count": 3,
     "metadata": {},
     "output_type": "execute_result"
    }
   ],
   "source": [
    "data = pd.read_csv('iris.csv')\n",
    "x_train = data.iloc[:,[0,1,2,3]].values\n",
    "y = data.iloc[:,[5]].values\n",
    "data.drop(columns=['Id', 'Species','PetalLengthCm','PetalWidthCm'], axis=1, inplace=True)\n",
    "data = pd.DataFrame(data)\n",
    "dta = data\n",
    "data = data.to_numpy()\n",
    "type(data)"
   ]
  },
  {
   "cell_type": "code",
   "execution_count": 4,
   "metadata": {},
   "outputs": [
    {
     "name": "stdout",
     "output_type": "stream",
     "text": [
      "150\n"
     ]
    }
   ],
   "source": [
    "gmm = GMM(n_components = 3)\n",
    "gmm.fit(data)\n",
    "labels = gmm.predict(data)\n",
    "print(len(labels))"
   ]
  },
  {
   "cell_type": "code",
   "execution_count": 5,
   "metadata": {},
   "outputs": [],
   "source": [
    "def fit_y_data(y):\n",
    "    a_y = []\n",
    "    for i in y:\n",
    "        if(i == 'comp0'):\n",
    "            a_y.append(1)\n",
    "        if(i == 'comp1'):\n",
    "            a_y.append(2)\n",
    "        if(i == 'comp2'):\n",
    "            a_y.append(3)\n",
    "    y = np.array(a_y)\n",
    "    return y"
   ]
  },
  {
   "cell_type": "code",
   "execution_count": 6,
   "metadata": {},
   "outputs": [],
   "source": [
    "def fit_y_data2(y):\n",
    "    a_y = []\n",
    "    for i in y:\n",
    "        if(i == 'Iris-setosa'):\n",
    "            a_y.append(1)\n",
    "        if(i == 'Iris-versicolor'):\n",
    "            a_y.append(2)\n",
    "        if(i == 'Iris-virginica'):\n",
    "            a_y.append(3)\n",
    "    y = np.array(a_y)\n",
    "    return y"
   ]
  },
  {
   "cell_type": "code",
   "execution_count": 7,
   "metadata": {},
   "outputs": [],
   "source": [
    "y = fit_y_data2(y)"
   ]
  },
  {
   "cell_type": "code",
   "execution_count": 8,
   "metadata": {},
   "outputs": [
    {
     "name": "stdout",
     "output_type": "stream",
     "text": [
      "150\n"
     ]
    }
   ],
   "source": [
    "cluster = fit_y_data(labels)\n",
    "print(len(cluster))"
   ]
  },
  {
   "cell_type": "code",
   "execution_count": 9,
   "metadata": {},
   "outputs": [
    {
     "name": "stdout",
     "output_type": "stream",
     "text": [
      "accurancy =  0.8066666666666666\n"
     ]
    }
   ],
   "source": [
    "print(\"accurancy = \" ,np.mean(y == cluster))"
   ]
  },
  {
   "cell_type": "code",
   "execution_count": 10,
   "metadata": {},
   "outputs": [],
   "source": [
    "#s = np.linalg.norm(p - d)"
   ]
  },
  {
   "cell_type": "code",
   "execution_count": 47,
   "metadata": {},
   "outputs": [],
   "source": [
    "data = pd.read_csv('iris.csv')\n",
    "data['cluster'] = cluster\n",
    "data.drop(columns=['Id', 'Species'], axis=1, inplace=True)\n"
   ]
  },
  {
   "cell_type": "code",
   "execution_count": 48,
   "metadata": {},
   "outputs": [
    {
     "data": {
      "text/plain": [
       "array([[5.1, 3.5, 1.4, 0.2],\n",
       "       [4.9, 3. , 1.4, 0.2],\n",
       "       [4.7, 3.2, 1.3, 0.2],\n",
       "       [4.6, 3.1, 1.5, 0.2],\n",
       "       [5. , 3.6, 1.4, 0.2],\n",
       "       [5.4, 3.9, 1.7, 0.4],\n",
       "       [4.6, 3.4, 1.4, 0.3],\n",
       "       [5. , 3.4, 1.5, 0.2],\n",
       "       [4.4, 2.9, 1.4, 0.2],\n",
       "       [4.9, 3.1, 1.5, 0.1],\n",
       "       [5.4, 3.7, 1.5, 0.2],\n",
       "       [4.8, 3.4, 1.6, 0.2],\n",
       "       [4.8, 3. , 1.4, 0.1],\n",
       "       [4.3, 3. , 1.1, 0.1],\n",
       "       [5.8, 4. , 1.2, 0.2],\n",
       "       [5.7, 4.4, 1.5, 0.4],\n",
       "       [5.4, 3.9, 1.3, 0.4],\n",
       "       [5.1, 3.5, 1.4, 0.3],\n",
       "       [5.7, 3.8, 1.7, 0.3],\n",
       "       [5.1, 3.8, 1.5, 0.3],\n",
       "       [5.4, 3.4, 1.7, 0.2],\n",
       "       [5.1, 3.7, 1.5, 0.4],\n",
       "       [4.6, 3.6, 1. , 0.2],\n",
       "       [5.1, 3.3, 1.7, 0.5],\n",
       "       [4.8, 3.4, 1.9, 0.2],\n",
       "       [5. , 3. , 1.6, 0.2],\n",
       "       [5. , 3.4, 1.6, 0.4],\n",
       "       [5.2, 3.5, 1.5, 0.2],\n",
       "       [5.2, 3.4, 1.4, 0.2],\n",
       "       [4.7, 3.2, 1.6, 0.2],\n",
       "       [4.8, 3.1, 1.6, 0.2],\n",
       "       [5.4, 3.4, 1.5, 0.4],\n",
       "       [5.2, 4.1, 1.5, 0.1],\n",
       "       [5.5, 4.2, 1.4, 0.2],\n",
       "       [4.9, 3.1, 1.5, 0.2],\n",
       "       [5. , 3.2, 1.2, 0.2],\n",
       "       [5.5, 3.5, 1.3, 0.2],\n",
       "       [4.9, 3.6, 1.4, 0.1],\n",
       "       [4.4, 3. , 1.3, 0.2],\n",
       "       [5.1, 3.4, 1.5, 0.2],\n",
       "       [5. , 3.5, 1.3, 0.3],\n",
       "       [4.5, 2.3, 1.3, 0.3],\n",
       "       [4.4, 3.2, 1.3, 0.2],\n",
       "       [5. , 3.5, 1.6, 0.6],\n",
       "       [5.1, 3.8, 1.9, 0.4],\n",
       "       [4.8, 3. , 1.4, 0.3],\n",
       "       [5.1, 3.8, 1.6, 0.2],\n",
       "       [4.6, 3.2, 1.4, 0.2],\n",
       "       [5.3, 3.7, 1.5, 0.2],\n",
       "       [5. , 3.3, 1.4, 0.2],\n",
       "       [7. , 3.2, 4.7, 1.4],\n",
       "       [6.4, 3.2, 4.5, 1.5],\n",
       "       [6.9, 3.1, 4.9, 1.5],\n",
       "       [5.5, 2.3, 4. , 1.3],\n",
       "       [6.5, 2.8, 4.6, 1.5],\n",
       "       [5.7, 2.8, 4.5, 1.3],\n",
       "       [6.3, 3.3, 4.7, 1.6],\n",
       "       [4.9, 2.4, 3.3, 1. ],\n",
       "       [6.6, 2.9, 4.6, 1.3],\n",
       "       [5.2, 2.7, 3.9, 1.4],\n",
       "       [5. , 2. , 3.5, 1. ],\n",
       "       [5.9, 3. , 4.2, 1.5],\n",
       "       [6. , 2.2, 4. , 1. ],\n",
       "       [6.1, 2.9, 4.7, 1.4],\n",
       "       [5.6, 2.9, 3.6, 1.3],\n",
       "       [6.7, 3.1, 4.4, 1.4],\n",
       "       [5.6, 3. , 4.5, 1.5],\n",
       "       [5.8, 2.7, 4.1, 1. ],\n",
       "       [6.2, 2.2, 4.5, 1.5],\n",
       "       [5.6, 2.5, 3.9, 1.1],\n",
       "       [5.9, 3.2, 4.8, 1.8],\n",
       "       [6.1, 2.8, 4. , 1.3],\n",
       "       [6.3, 2.5, 4.9, 1.5],\n",
       "       [6.1, 2.8, 4.7, 1.2],\n",
       "       [6.4, 2.9, 4.3, 1.3],\n",
       "       [6.6, 3. , 4.4, 1.4],\n",
       "       [6.8, 2.8, 4.8, 1.4],\n",
       "       [6.7, 3. , 5. , 1.7],\n",
       "       [6. , 2.9, 4.5, 1.5],\n",
       "       [5.7, 2.6, 3.5, 1. ],\n",
       "       [5.5, 2.4, 3.8, 1.1],\n",
       "       [5.5, 2.4, 3.7, 1. ],\n",
       "       [5.8, 2.7, 3.9, 1.2],\n",
       "       [6. , 2.7, 5.1, 1.6],\n",
       "       [5.4, 3. , 4.5, 1.5],\n",
       "       [6. , 3.4, 4.5, 1.6],\n",
       "       [6.7, 3.1, 4.7, 1.5],\n",
       "       [6.3, 2.3, 4.4, 1.3],\n",
       "       [5.6, 3. , 4.1, 1.3],\n",
       "       [5.5, 2.5, 4. , 1.3],\n",
       "       [5.5, 2.6, 4.4, 1.2],\n",
       "       [6.1, 3. , 4.6, 1.4],\n",
       "       [5.8, 2.6, 4. , 1.2],\n",
       "       [5. , 2.3, 3.3, 1. ],\n",
       "       [5.6, 2.7, 4.2, 1.3],\n",
       "       [5.7, 3. , 4.2, 1.2],\n",
       "       [5.7, 2.9, 4.2, 1.3],\n",
       "       [6.2, 2.9, 4.3, 1.3],\n",
       "       [5.1, 2.5, 3. , 1.1],\n",
       "       [5.7, 2.8, 4.1, 1.3],\n",
       "       [6.3, 3.3, 6. , 2.5],\n",
       "       [5.8, 2.7, 5.1, 1.9],\n",
       "       [7.1, 3. , 5.9, 2.1],\n",
       "       [6.3, 2.9, 5.6, 1.8],\n",
       "       [6.5, 3. , 5.8, 2.2],\n",
       "       [7.6, 3. , 6.6, 2.1],\n",
       "       [4.9, 2.5, 4.5, 1.7],\n",
       "       [7.3, 2.9, 6.3, 1.8],\n",
       "       [6.7, 2.5, 5.8, 1.8],\n",
       "       [7.2, 3.6, 6.1, 2.5],\n",
       "       [6.5, 3.2, 5.1, 2. ],\n",
       "       [6.4, 2.7, 5.3, 1.9],\n",
       "       [6.8, 3. , 5.5, 2.1],\n",
       "       [5.7, 2.5, 5. , 2. ],\n",
       "       [5.8, 2.8, 5.1, 2.4],\n",
       "       [6.4, 3.2, 5.3, 2.3],\n",
       "       [6.5, 3. , 5.5, 1.8],\n",
       "       [7.7, 3.8, 6.7, 2.2],\n",
       "       [7.7, 2.6, 6.9, 2.3],\n",
       "       [6. , 2.2, 5. , 1.5],\n",
       "       [6.9, 3.2, 5.7, 2.3],\n",
       "       [5.6, 2.8, 4.9, 2. ],\n",
       "       [7.7, 2.8, 6.7, 2. ],\n",
       "       [6.3, 2.7, 4.9, 1.8],\n",
       "       [6.7, 3.3, 5.7, 2.1],\n",
       "       [7.2, 3.2, 6. , 1.8],\n",
       "       [6.2, 2.8, 4.8, 1.8],\n",
       "       [6.1, 3. , 4.9, 1.8],\n",
       "       [6.4, 2.8, 5.6, 2.1],\n",
       "       [7.2, 3. , 5.8, 1.6],\n",
       "       [7.4, 2.8, 6.1, 1.9],\n",
       "       [7.9, 3.8, 6.4, 2. ],\n",
       "       [6.4, 2.8, 5.6, 2.2],\n",
       "       [6.3, 2.8, 5.1, 1.5],\n",
       "       [6.1, 2.6, 5.6, 1.4],\n",
       "       [7.7, 3. , 6.1, 2.3],\n",
       "       [6.3, 3.4, 5.6, 2.4],\n",
       "       [6.4, 3.1, 5.5, 1.8],\n",
       "       [6. , 3. , 4.8, 1.8],\n",
       "       [6.9, 3.1, 5.4, 2.1],\n",
       "       [6.7, 3.1, 5.6, 2.4],\n",
       "       [6.9, 3.1, 5.1, 2.3],\n",
       "       [5.8, 2.7, 5.1, 1.9],\n",
       "       [6.8, 3.2, 5.9, 2.3],\n",
       "       [6.7, 3.3, 5.7, 2.5],\n",
       "       [6.7, 3. , 5.2, 2.3],\n",
       "       [6.3, 2.5, 5. , 1.9],\n",
       "       [6.5, 3. , 5.2, 2. ],\n",
       "       [6.2, 3.4, 5.4, 2.3],\n",
       "       [5.9, 3. , 5.1, 1.8]])"
      ]
     },
     "execution_count": 48,
     "metadata": {},
     "output_type": "execute_result"
    }
   ],
   "source": [
    "X, _ = load_iris(return_X_y=True)\n",
    "X"
   ]
  },
  {
   "cell_type": "code",
   "execution_count": null,
   "metadata": {},
   "outputs": [],
   "source": [
    "# for p in data"
   ]
  },
  {
   "cell_type": "code",
   "execution_count": 72,
   "metadata": {},
   "outputs": [],
   "source": [
    "def distance_cal(s,p):\n",
    "    a = np.delete(s, len(s)-1)\n",
    "    b = np.delete(p, len(p)-1)\n",
    "    return np.linalg.norm(a - b)"
   ]
  },
  {
   "cell_type": "code",
   "execution_count": 84,
   "metadata": {},
   "outputs": [],
   "source": [
    "def calcu_sil_score(data):\n",
    "    sil = []\n",
    "    for i in range(len(data)):\n",
    "        s = data[i] \n",
    "        a = []\n",
    "        b = []\n",
    "        for p in data:\n",
    "            if(p[4] == s[4]):\n",
    "                a.append(distance_cal(s,p))\n",
    "            else:\n",
    "                b.append(distance_cal(s,p))\n",
    "\n",
    "        a_n = np.asarray(a)\n",
    "        b_n = np.asarray(b)\n",
    "        # print(\"b_n\",b_n)\n",
    "        # print(\"a_n\",a_n)\n",
    "        a_i = np.average(a_n)\n",
    "        b_i = np.average(b_n)\n",
    "        # print(\"b_i \",b_i)\n",
    "        # print(\"a_i\",a_i)\n",
    "        s_i = (b_i - a_i)/max(b_i,a_i)\n",
    "        # print(s_i)\n",
    "        sil.append(s_i)\n",
    "        # break\n",
    "\n",
    "    print(sil)\n",
    "    sil_n = np.asarray(sil)\n",
    "    sil_score = np.mean(sil_n)\n",
    "    return sil_score\n",
    "            \n",
    "        \n"
   ]
  },
  {
   "cell_type": "code",
   "execution_count": 85,
   "metadata": {},
   "outputs": [
    {
     "name": "stdout",
     "output_type": "stream",
     "text": [
      "[0.8798957724779872, 0.8495963124537335, 0.8591795930032032, 0.840143613801283, 0.8758630257692814, 0.7937829412711846, 0.8525846511493408, 0.8817187734573061, 0.7932938276748445, 0.8598356369981468, 0.8386617782960565, 0.86683776345261, 0.8451150423826004, 0.7850582537974221, 0.7484372252939795, 0.6980043088297391, 0.8131445829706637, 0.8784573450614451, 0.7592340612135672, 0.8522088126715, 0.8261922930687225, 0.8575585259933788, 0.8247272099575004, 0.8349037910244457, 0.8190703973694259, 0.8378806653844986, 0.8657224608929307, 0.8718467680596345, 0.87282899087879, 0.8522167720541183, 0.8508166372861865, 0.8368855803115524, 0.8017832809944953, 0.7662035529568983, 0.8598356369981468, 0.8617477878990786, 0.8302079484723186, 0.8598356369981468, 0.8063801176977703, 0.8790316458136787, 0.8760176878007648, -0.0377641762149475, 0.8216678364372523, 0.8378765024992076, 0.7950859309064836, 0.8441557484526193, 0.8469785087788914, 0.8508966782288248, 0.8512314057354744, 0.8799410513885101, 0.5861488513131698, 0.5026140717193216, 0.6470971665051913, 0.6384697524786119, 0.5514743998893009, 0.6689205822259391, 0.5505995950751918, 0.44991042015017463, 0.5338864644566177, 0.614569613310597, 0.4792282438875885, 0.6318734126509644, 0.5724429654351344, 0.5992167932789839, 0.5677671986697074, 0.49785309241145925, 0.6498248482189992, 0.6367427998792591, 0.3949902673467879, 0.6375788800300399, 0.5541537599414651, 0.6016674059281392, 0.5636102167885246, 0.5951699244355498, 0.39469740632606615, 0.4891935416559644, 0.608681840411322, 0.6863064266460286, 0.6323416851662909, 0.5392769813272286, 0.6144322621630475, 0.585359254431554, 0.6382719943504819, 0.5596353190360316, 0.6374058297744151, 0.40617183797490186, 0.6027369830557033, 0.3631839201633851, 0.6462043750976495, 0.658695347528779, 0.6668052206236665, 0.5972251033222538, 0.6531752753591912, 0.4602648306692053, 0.6814681262817832, 0.6464135478275035, 0.6681024765130424, 0.34194367661899133, 0.39716696233276644, 0.6708527518198564, 0.6651680903597543, 0.5593588904413537, 0.7259444553255523, 0.6972949545878, 0.7226793842397924, 0.6461564733246905, 0.5747193291541537, 0.6807987726435467, 0.6926279370877607, 0.6663253561604087, 0.6945923867444447, 0.6935194205206378, 0.7439491423830542, 0.5622687414710609, 0.47444438596738703, 0.6950427160503215, 0.7243446454574485, 0.6017777930705814, 0.6030423736212145, 0.5522687217281648, 0.730805731217271, 0.5766208573655389, 0.627305626022054, 0.6183480947449546, 0.7312406057466729, 0.7055993687511668, 0.5817110779627691, 0.543471362011126, 0.7138252367585697, 0.7010254522082793, 0.6885342994965693, 0.6032526607130425, 0.710287461246688, 0.62728069632591, 0.44996428804420063, 0.6641215102691665, 0.6755270374420764, 0.7119369142566706, 0.5730110174448036, 0.7372193686380638, 0.7254716423126412, 0.6974181573222359, 0.5593588904413537, 0.7235511861871078, 0.7070533127301667, 0.7112174405096661, 0.6172264090693687, 0.7139649465840312, 0.6586980001413737, 0.5403655122606045]\n",
      "0.6808425202214519\n"
     ]
    }
   ],
   "source": [
    "a = calcu_sil_score(data.to_numpy())\n",
    "print(a)"
   ]
  },
  {
   "cell_type": "code",
   "execution_count": 87,
   "metadata": {},
   "outputs": [
    {
     "name": "stdout",
     "output_type": "stream",
     "text": [
      "0.4713825156872283\n"
     ]
    }
   ],
   "source": [
    "a = silhouette_score(X,cluster)\n",
    "print(a)"
   ]
  }
 ],
 "metadata": {
  "kernelspec": {
   "display_name": "Python 3.10.1 ('mlpython': venv)",
   "language": "python",
   "name": "python3"
  },
  "language_info": {
   "codemirror_mode": {
    "name": "ipython",
    "version": 3
   },
   "file_extension": ".py",
   "mimetype": "text/x-python",
   "name": "python",
   "nbconvert_exporter": "python",
   "pygments_lexer": "ipython3",
   "version": "3.10.1"
  },
  "orig_nbformat": 4,
  "vscode": {
   "interpreter": {
    "hash": "a58a05e89c12b3f4ae4e11e606f896b129694445df3e4fafe219fa71e4f9c2b4"
   }
  }
 },
 "nbformat": 4,
 "nbformat_minor": 2
}
