{
 "cells": [
  {
   "cell_type": "markdown",
   "metadata": {},
   "source": [
    "### Assignment 9 "
   ]
  },
  {
   "cell_type": "code",
   "execution_count": 104,
   "metadata": {},
   "outputs": [],
   "source": [
    "import numpy as np\n",
    "import pandas as pd\n",
    "import matplotlib.pyplot as plt\n",
    "import seaborn as sns\n",
    "from sklearn.cluster import KMeans"
   ]
  },
  {
   "cell_type": "code",
   "execution_count": 105,
   "metadata": {},
   "outputs": [],
   "source": [
    "data = pd.read_csv('iris.csv')\n",
    "y = data.iloc[:,[5]].values\n",
    "data.drop(columns=['Id', 'Species','PetalLengthCm','PetalWidthCm'], axis=1, inplace=True)\n",
    "data = pd.DataFrame(data)\n",
    "data = data.to_numpy()"
   ]
  },
  {
   "cell_type": "code",
   "execution_count": 106,
   "metadata": {},
   "outputs": [],
   "source": [
    "def fit_y_data(y):\n",
    "    a_y = []\n",
    "    for i in y:\n",
    "        if(i == 'comp0'):\n",
    "            a_y.append(1)\n",
    "        if(i == 'comp1'):\n",
    "            a_y.append(2)\n",
    "        if(i == 'comp2'):\n",
    "            a_y.append(3)\n",
    "    y = np.array(a_y)\n",
    "    return y"
   ]
  },
  {
   "cell_type": "code",
   "execution_count": 107,
   "metadata": {},
   "outputs": [],
   "source": [
    "def fit_y_data2(y):\n",
    "    a_y = []\n",
    "    for i in y:\n",
    "        if(i == 'Iris-setosa'):\n",
    "            a_y.append(1)\n",
    "        if(i == 'Iris-versicolor'):\n",
    "            a_y.append(2)\n",
    "        if(i == 'Iris-virginica'):\n",
    "            a_y.append(3)\n",
    "    y = np.array(a_y)\n",
    "    return y"
   ]
  },
  {
   "cell_type": "code",
   "execution_count": 108,
   "metadata": {},
   "outputs": [],
   "source": [
    "class GaussianMixtureModel:\n",
    "    def __init__(self, n_components, max_iter = 100, comp_names=None):\n",
    "        \n",
    "        self.n_componets = n_components\n",
    "        self.max_iter = max_iter\n",
    "        if comp_names == None:\n",
    "            self.comp_names = [f\"comp{index}\" for index in range(self.n_componets)]\n",
    "        else:\n",
    "            self.comp_names = comp_names\n",
    "        self.pi = [1/self.n_componets for comp in range(self.n_componets)]\n",
    "\n",
    "    def multivariate_normal(self, X, mean_vector, covariance_matrix):\n",
    "        return (2*np.pi)**(-len(X)/2)*np.linalg.det(covariance_matrix)**(-1/2)*np.exp(-np.dot(np.dot((X-mean_vector).T, np.linalg.inv(covariance_matrix)), (X-mean_vector))/2)\n",
    "\n",
    "    def fit(self, X):\n",
    "        new_X = np.array_split(X, self.n_componets)\n",
    "        self.mean_vector = [np.mean(x, axis=0) for x in new_X]\n",
    "        self.covariance_matrixes = [np.cov(x.T) for x in new_X]\n",
    "        del new_X\n",
    "        for iteration in range(self.max_iter):\n",
    "            \n",
    "            self.r = np.zeros((len(X), self.n_componets))\n",
    "            for n in range(len(X)):\n",
    "                for k in range(self.n_componets):\n",
    "                    self.r[n][k] = self.pi[k] * self.multivariate_normal(X[n], self.mean_vector[k], self.covariance_matrixes[k])\n",
    "                    self.r[n][k] /= sum([self.pi[j]*self.multivariate_normal(X[n], self.mean_vector[j], self.covariance_matrixes[j]) for j in range(self.n_componets)])\n",
    "            N = np.sum(self.r, axis=0)\n",
    "            self.mean_vector = np.zeros((self.n_componets, len(X[0])))\n",
    "            for k in range(self.n_componets):\n",
    "                for n in range(len(X)):\n",
    "                    self.mean_vector[k] += self.r[n][k] * X[n]\n",
    "            self.mean_vector = [1/N[k]*self.mean_vector[k] for k in range(self.n_componets)]\n",
    "            self.covariance_matrixes = [np.zeros((len(X[0]), len(X[0]))) for k in range(self.n_componets)]\n",
    "            for k in range(self.n_componets):\n",
    "                self.covariance_matrixes[k] = np.cov(X.T, aweights=(self.r[:, k]), ddof=0)\n",
    "            self.covariance_matrixes = [1/N[k]*self.covariance_matrixes[k] for k in range(self.n_componets)]\n",
    "            self.pi = [N[k]/len(X) for k in range(self.n_componets)]\n",
    "    def predict(self, X):\n",
    "        \n",
    "        probas = []\n",
    "        for n in range(len(X)):\n",
    "            probas.append([self.multivariate_normal(X[n], self.mean_vector[k], self.covariance_matrixes[k])\n",
    "                           for k in range(self.n_componets)])\n",
    "        cluster = []\n",
    "        for proba in probas:\n",
    "            cluster.append(self.comp_names[proba.index(max(proba))])\n",
    "        return cluster"
   ]
  },
  {
   "cell_type": "code",
   "execution_count": 109,
   "metadata": {},
   "outputs": [
    {
     "name": "stdout",
     "output_type": "stream",
     "text": [
      "accurancy =  0.8066666666666666\n"
     ]
    }
   ],
   "source": [
    "model = GaussianMixtureModel(n_components = 3)\n",
    "model.fit(data)\n",
    "labels = model.predict(data)\n",
    "y = fit_y_data2(y)\n",
    "cluster = fit_y_data(labels)\n",
    "print(\"accurancy = \" ,np.mean(y == cluster))"
   ]
  },
  {
   "cell_type": "markdown",
   "metadata": {},
   "source": [
    "#### Question 2"
   ]
  },
  {
   "cell_type": "code",
   "execution_count": 110,
   "metadata": {},
   "outputs": [],
   "source": [
    "data = pd.read_csv('iris.csv')\n",
    "y = data.iloc[:,[5]].values\n",
    "data.drop(columns=['Id', 'Species','PetalLengthCm','PetalWidthCm'], axis=1, inplace=True)\n",
    "data = pd.DataFrame(data)\n",
    "data = data.to_numpy()"
   ]
  },
  {
   "cell_type": "code",
   "execution_count": 111,
   "metadata": {},
   "outputs": [],
   "source": [
    "def func(cluster):\n",
    "    data2 = pd.read_csv('iris.csv')\n",
    "    data2['cluster'] = cluster\n",
    "    data2.drop(columns=['Id', 'Species'], axis=1, inplace=True)\n",
    "    return data2"
   ]
  },
  {
   "cell_type": "code",
   "execution_count": 112,
   "metadata": {},
   "outputs": [],
   "source": [
    "def distance_cal(s,p):\n",
    "    a = np.delete(s, len(s)-1)\n",
    "    b = np.delete(p, len(p)-1)\n",
    "    return np.linalg.norm(a - b)"
   ]
  },
  {
   "cell_type": "code",
   "execution_count": 113,
   "metadata": {},
   "outputs": [],
   "source": [
    "def calcu_sil_score(data):\n",
    "    sil = []\n",
    "    for i in range(len(data)):\n",
    "        s = data[i] \n",
    "        a = []\n",
    "        b = []\n",
    "        for p in data:\n",
    "            if(p[4] == s[4]):\n",
    "                a.append(distance_cal(s,p))\n",
    "            else:\n",
    "                b.append(distance_cal(s,p))\n",
    "\n",
    "        a_n = np.asarray(a)\n",
    "        b_n = np.asarray(b)\n",
    "        a_i = np.average(a_n)\n",
    "        b_i = np.average(b_n)\n",
    "        s_i = (b_i - a_i)/max(b_i,a_i)\n",
    "        sil.append(s_i)\n",
    "    sil_n = np.asarray(sil)\n",
    "    sil_score = np.mean(sil_n)\n",
    "    return sil_score"
   ]
  },
  {
   "cell_type": "code",
   "execution_count": 118,
   "metadata": {},
   "outputs": [
    {
     "name": "stderr",
     "output_type": "stream",
     "text": [
      "e:\\IIIT-G\\0CS360 - Machine Learning Lab\\mlpython\\lib\\site-packages\\numpy\\lib\\function_base.py:518: RuntimeWarning: Mean of empty slice.\n",
      "  avg = a.mean(axis, **keepdims_kw)\n",
      "e:\\IIIT-G\\0CS360 - Machine Learning Lab\\mlpython\\lib\\site-packages\\numpy\\core\\_methods.py:190: RuntimeWarning: invalid value encountered in double_scalars\n",
      "  ret = ret.dtype.type(ret / rcount)\n"
     ]
    }
   ],
   "source": [
    "cost_list = []\n",
    "for k in range(1,5):\n",
    "    cluster = KMeans(n_clusters=k, random_state=42)\n",
    "    cluster_l = cluster.fit_predict(data)\n",
    "    d = func(cluster_l)\n",
    "    sil_score = calcu_sil_score(d.to_numpy())\n",
    "    cost_list.append(sil_score)"
   ]
  },
  {
   "cell_type": "code",
   "execution_count": 119,
   "metadata": {},
   "outputs": [
    {
     "data": {
      "image/png": "[encoded data removed]",
      "text/plain": [
       "<Figure size 432x288 with 1 Axes>"
      ]
     },
     "metadata": {
      "needs_background": "light"
     },
     "output_type": "display_data"
    }
   ],
   "source": [
    "sns.lineplot(x=range(1,5), y=cost_list, marker='o')\n",
    "plt.xlabel('k')\n",
    "plt.ylabel('silhoute score')\n",
    "plt.show()"
   ]
  },
  {
   "cell_type": "markdown",
   "metadata": {},
   "source": [
    "### for k-mean we take 3 as a k value since Silhouette Coefficient is highest for k = 3"
   ]
  }
 ],
 "metadata": {
  "kernelspec": {
   "display_name": "Python 3.10.1 ('mlpython': venv)",
   "language": "python",
   "name": "python3"
  },
  "language_info": {
   "codemirror_mode": {
    "name": "ipython",
    "version": 3
   },
   "file_extension": ".py",
   "mimetype": "text/x-python",
   "name": "python",
   "nbconvert_exporter": "python",
   "pygments_lexer": "ipython3",
   "version": "3.10.1"
  },
  "orig_nbformat": 4,
  "vscode": {
   "interpreter": {
    "hash": "a58a05e89c12b3f4ae4e11e606f896b129694445df3e4fafe219fa71e4f9c2b4"
   }
  }
 },
 "nbformat": 4,
 "nbformat_minor": 2
}
