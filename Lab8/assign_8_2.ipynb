{
 "cells": [
  {
   "cell_type": "code",
   "execution_count": 68,
   "metadata": {},
   "outputs": [],
   "source": [
    "import numpy as np\n",
    "import matplotlib.pyplot as plt\n",
    "import pandas as pd\n",
    "from matplotlib import style\n",
    "import random"
   ]
  },
  {
   "cell_type": "code",
   "execution_count": 69,
   "metadata": {},
   "outputs": [
    {
     "data": {
      "text/html": [
       "<div>\n",
       "<style scoped>\n",
       "    .dataframe tbody tr th:only-of-type {\n",
       "        vertical-align: middle;\n",
       "    }\n",
       "\n",
       "    .dataframe tbody tr th {\n",
       "        vertical-align: top;\n",
       "    }\n",
       "\n",
       "    .dataframe thead th {\n",
       "        text-align: right;\n",
       "    }\n",
       "</style>\n",
       "<table border=\"1\" class=\"dataframe\">\n",
       "  <thead>\n",
       "    <tr style=\"text-align: right;\">\n",
       "      <th></th>\n",
       "      <th>Id</th>\n",
       "      <th>SepalLengthCm</th>\n",
       "      <th>SepalWidthCm</th>\n",
       "      <th>PetalLengthCm</th>\n",
       "      <th>PetalWidthCm</th>\n",
       "      <th>Species</th>\n",
       "    </tr>\n",
       "  </thead>\n",
       "  <tbody>\n",
       "    <tr>\n",
       "      <th>0</th>\n",
       "      <td>1</td>\n",
       "      <td>5.1</td>\n",
       "      <td>3.5</td>\n",
       "      <td>1.4</td>\n",
       "      <td>0.2</td>\n",
       "      <td>Iris-setosa</td>\n",
       "    </tr>\n",
       "    <tr>\n",
       "      <th>1</th>\n",
       "      <td>2</td>\n",
       "      <td>4.9</td>\n",
       "      <td>3.0</td>\n",
       "      <td>1.4</td>\n",
       "      <td>0.2</td>\n",
       "      <td>Iris-setosa</td>\n",
       "    </tr>\n",
       "    <tr>\n",
       "      <th>2</th>\n",
       "      <td>3</td>\n",
       "      <td>4.7</td>\n",
       "      <td>3.2</td>\n",
       "      <td>1.3</td>\n",
       "      <td>0.2</td>\n",
       "      <td>Iris-setosa</td>\n",
       "    </tr>\n",
       "    <tr>\n",
       "      <th>3</th>\n",
       "      <td>4</td>\n",
       "      <td>4.6</td>\n",
       "      <td>3.1</td>\n",
       "      <td>1.5</td>\n",
       "      <td>0.2</td>\n",
       "      <td>Iris-setosa</td>\n",
       "    </tr>\n",
       "    <tr>\n",
       "      <th>4</th>\n",
       "      <td>5</td>\n",
       "      <td>5.0</td>\n",
       "      <td>3.6</td>\n",
       "      <td>1.4</td>\n",
       "      <td>0.2</td>\n",
       "      <td>Iris-setosa</td>\n",
       "    </tr>\n",
       "  </tbody>\n",
       "</table>\n",
       "</div>"
      ],
      "text/plain": [
       "   Id  SepalLengthCm  SepalWidthCm  PetalLengthCm  PetalWidthCm      Species\n",
       "0   1            5.1           3.5            1.4           0.2  Iris-setosa\n",
       "1   2            4.9           3.0            1.4           0.2  Iris-setosa\n",
       "2   3            4.7           3.2            1.3           0.2  Iris-setosa\n",
       "3   4            4.6           3.1            1.5           0.2  Iris-setosa\n",
       "4   5            5.0           3.6            1.4           0.2  Iris-setosa"
      ]
     },
     "execution_count": 69,
     "metadata": {},
     "output_type": "execute_result"
    }
   ],
   "source": [
    "# reading data from file ..\n",
    "data = pd.read_csv('iris.csv')\n",
    "data.head()"
   ]
  },
  {
   "cell_type": "code",
   "execution_count": 70,
   "metadata": {},
   "outputs": [],
   "source": [
    "x_train = data.iloc[:,[1,2,3,4]].values\n",
    "y = data.iloc[:,[5]].values"
   ]
  },
  {
   "cell_type": "code",
   "execution_count": 71,
   "metadata": {},
   "outputs": [],
   "source": [
    "def fit_y_data(y):\n",
    "    a_y = []\n",
    "    for i in y:\n",
    "        if(i[0] == 'Iris-setosa'):\n",
    "            a_y.append(1)\n",
    "        if(i[0] == 'Iris-versicolor'):\n",
    "            a_y.append(2)\n",
    "        if(i[0] == 'Iris-virginica'):\n",
    "            a_y.append(3)\n",
    "    y = np.array(a_y)\n",
    "    return y\n"
   ]
  },
  {
   "cell_type": "code",
   "execution_count": 72,
   "metadata": {},
   "outputs": [],
   "source": [
    "y_given = fit_y_data(y)"
   ]
  },
  {
   "cell_type": "code",
   "execution_count": 73,
   "metadata": {},
   "outputs": [
    {
     "data": {
      "image/png": "[encoded data removed]",
      "text/plain": [
       "<Figure size 432x288 with 1 Axes>"
      ]
     },
     "metadata": {
      "needs_background": "light"
     },
     "output_type": "display_data"
    }
   ],
   "source": [
    "plt.scatter(x_train[y_given == 1,0], x_train[y_given==1,1],s = 15, c= 'red', label = 'Iris-setosa')\n",
    "plt.scatter(x_train[y_given == 2,0], x_train[y_given==2,1],s = 15, c= 'blue', label = 'Iris-versicolor')\n",
    "plt.scatter(x_train[y_given == 3,0], x_train[y_given==3,1],s = 15, c= 'green', label = 'Iris-virginica')\n",
    "plt.title(' Actual datapoint ')\n",
    "plt.legend()\n",
    "plt.show()"
   ]
  },
  {
   "cell_type": "code",
   "execution_count": 74,
   "metadata": {},
   "outputs": [],
   "source": [
    "def cost_func(data,index,eps):\n",
    "    d = data.iloc[index].to_numpy()\n",
    "    dataset = data.to_numpy()\n",
    "    c = 0\n",
    "    i = 0\n",
    "    s = 0\n",
    "    list = []\n",
    "    for p in dataset:\n",
    "         s = np.linalg.norm(p - d)\n",
    "         if(s<=eps and i != index):\n",
    "               c += 1\n",
    "               list.append(i)\n",
    "         i += 1\n",
    "    return list"
   ]
  },
  {
   "cell_type": "code",
   "execution_count": 75,
   "metadata": {},
   "outputs": [],
   "source": [
    "def point_type(eps,minPts, data, index):\n",
    "    count = cost_func(data,index,eps)\n",
    "    if len(count) >= minPts:\n",
    "        return (count , True, False, False)\n",
    "    \n",
    "    elif (len(count) < minPts) and len(count) > 0:\n",
    "        return (count , False, True, False)\n",
    "    \n",
    "    elif len(count) == 0:\n",
    "        return (count , False, False, True)"
   ]
  },
  {
   "cell_type": "code",
   "execution_count": 76,
   "metadata": {},
   "outputs": [],
   "source": [
    "def DBSCAN(eps, minPts, df):\n",
    "    C = 1\n",
    "    current_stack = set()\n",
    "    unvisited = list(df.index)\n",
    "    clusters = []\n",
    "\n",
    "    while (len(unvisited) != 0):  \n",
    "        first_point = True\n",
    "        current_stack.add(random.choice(unvisited))\n",
    "        while len(current_stack) != 0:  \n",
    "            curr_idx = current_stack.pop()\n",
    "            neighbours, iscore, isborder, isnoise = point_type(eps, minPts, df, curr_idx)\n",
    "            \n",
    "            if (isborder & first_point):\n",
    "                clusters.append((curr_idx, 0))\n",
    "                clusters.extend(\n",
    "                    list(zip(neighbours, [0 for _ in range(len(neighbours))])))\n",
    "                unvisited.remove(curr_idx)\n",
    "                unvisited = [e for e in unvisited if e not in neighbours]\n",
    "                continue\n",
    "            unvisited.remove(curr_idx)  \n",
    "            neighbours = set(neighbours) & set(\n",
    "                unvisited)  \n",
    "            if iscore:  \n",
    "                first_point = False\n",
    "                clusters.append((curr_idx, C))  \n",
    "                current_stack.update(neighbours)\n",
    "            elif isborder:  \n",
    "                clusters.append((curr_idx, C))\n",
    "                continue\n",
    "            elif isnoise:  \n",
    "                clusters.append((curr_idx, 0))\n",
    "                continue\n",
    "        \n",
    "        if not first_point:\n",
    "            C += 1\n",
    "    return clusters"
   ]
  },
  {
   "cell_type": "code",
   "execution_count": 77,
   "metadata": {},
   "outputs": [],
   "source": [
    "eps = 0.3\n",
    "minPts = 3"
   ]
  },
  {
   "cell_type": "code",
   "execution_count": 78,
   "metadata": {},
   "outputs": [],
   "source": [
    "data = pd.DataFrame(x_train, columns = [\"SepalLength\", \"SepalWidth\",\"PetalLength\",\"PetalWidth\"] )\n",
    "clustered = DBSCAN(eps, minPts, data)\n"
   ]
  },
  {
   "cell_type": "code",
   "execution_count": 79,
   "metadata": {},
   "outputs": [],
   "source": [
    "idx , cluster = list(zip(*clustered))"
   ]
  },
  {
   "cell_type": "code",
   "execution_count": 80,
   "metadata": {},
   "outputs": [
    {
     "data": {
      "text/plain": [
       "array([0, 1, 2, 3])"
      ]
     },
     "execution_count": 80,
     "metadata": {},
     "output_type": "execute_result"
    }
   ],
   "source": [
    "np.unique(cluster)"
   ]
  },
  {
   "cell_type": "code",
   "execution_count": 81,
   "metadata": {},
   "outputs": [],
   "source": [
    "cluster_df = pd.DataFrame(clustered, columns = [\"idx\", \"cluster\"])"
   ]
  },
  {
   "cell_type": "code",
   "execution_count": 82,
   "metadata": {},
   "outputs": [
    {
     "data": {
      "text/plain": [
       "Text(0.5, 1.0, 'Clustered Data')"
      ]
     },
     "execution_count": 82,
     "metadata": {},
     "output_type": "execute_result"
    },
    {
     "data": {
      "image/png": "[encoded data removed]",
      "text/plain": [
       "<Figure size 432x288 with 1 Axes>"
      ]
     },
     "metadata": {
      "needs_background": "light"
     },
     "output_type": "display_data"
    }
   ],
   "source": [
    "for clust in np.unique(cluster):\n",
    "    plt.scatter(x_train[cluster_df[\"idx\"][cluster_df[\"cluster\"] == clust].values, 0], x_train[cluster_df[\"idx\"][cluster_df[\"cluster\"] == clust].values, 1], s=20, label=f\"Cluster : {clust}\")\n",
    "plt.legend([f\"Cluster {clust}\" for clust in np.unique(cluster)])\n",
    "plt.title('Clustered Data')"
   ]
  }
 ],
 "metadata": {
  "kernelspec": {
   "display_name": "Python 3.10.1 ('mlpython': venv)",
   "language": "python",
   "name": "python3"
  },
  "language_info": {
   "codemirror_mode": {
    "name": "ipython",
    "version": 3
   },
   "file_extension": ".py",
   "mimetype": "text/x-python",
   "name": "python",
   "nbconvert_exporter": "python",
   "pygments_lexer": "ipython3",
   "version": "3.10.1"
  },
  "orig_nbformat": 4,
  "vscode": {
   "interpreter": {
    "hash": "a58a05e89c12b3f4ae4e11e606f896b129694445df3e4fafe219fa71e4f9c2b4"
   }
  }
 },
 "nbformat": 4,
 "nbformat_minor": 2
}
