{
 "cells": [
  {
   "cell_type": "code",
   "execution_count": 74,
   "metadata": {},
   "outputs": [],
   "source": [
    "import numpy as np\n",
    "import matplotlib.pyplot as plt\n",
    "import pandas as pd\n",
    "from sklearn.metrics.pairwise import euclidean_distances "
   ]
  },
  {
   "cell_type": "code",
   "execution_count": 75,
   "metadata": {},
   "outputs": [
    {
     "data": {
      "text/html": [
       "<div>\n",
       "<style scoped>\n",
       "    .dataframe tbody tr th:only-of-type {\n",
       "        vertical-align: middle;\n",
       "    }\n",
       "\n",
       "    .dataframe tbody tr th {\n",
       "        vertical-align: top;\n",
       "    }\n",
       "\n",
       "    .dataframe thead th {\n",
       "        text-align: right;\n",
       "    }\n",
       "</style>\n",
       "<table border=\"1\" class=\"dataframe\">\n",
       "  <thead>\n",
       "    <tr style=\"text-align: right;\">\n",
       "      <th></th>\n",
       "      <th>SepalLengthCm</th>\n",
       "      <th>SepalWidthCm</th>\n",
       "      <th>PetalLengthCm</th>\n",
       "      <th>PetalWidthCm</th>\n",
       "    </tr>\n",
       "  </thead>\n",
       "  <tbody>\n",
       "    <tr>\n",
       "      <th>0</th>\n",
       "      <td>5.1</td>\n",
       "      <td>3.5</td>\n",
       "      <td>1.4</td>\n",
       "      <td>0.2</td>\n",
       "    </tr>\n",
       "    <tr>\n",
       "      <th>1</th>\n",
       "      <td>4.9</td>\n",
       "      <td>3.0</td>\n",
       "      <td>1.4</td>\n",
       "      <td>0.2</td>\n",
       "    </tr>\n",
       "    <tr>\n",
       "      <th>2</th>\n",
       "      <td>4.7</td>\n",
       "      <td>3.2</td>\n",
       "      <td>1.3</td>\n",
       "      <td>0.2</td>\n",
       "    </tr>\n",
       "    <tr>\n",
       "      <th>3</th>\n",
       "      <td>4.6</td>\n",
       "      <td>3.1</td>\n",
       "      <td>1.5</td>\n",
       "      <td>0.2</td>\n",
       "    </tr>\n",
       "    <tr>\n",
       "      <th>4</th>\n",
       "      <td>5.0</td>\n",
       "      <td>3.6</td>\n",
       "      <td>1.4</td>\n",
       "      <td>0.2</td>\n",
       "    </tr>\n",
       "    <tr>\n",
       "      <th>...</th>\n",
       "      <td>...</td>\n",
       "      <td>...</td>\n",
       "      <td>...</td>\n",
       "      <td>...</td>\n",
       "    </tr>\n",
       "    <tr>\n",
       "      <th>145</th>\n",
       "      <td>6.7</td>\n",
       "      <td>3.0</td>\n",
       "      <td>5.2</td>\n",
       "      <td>2.3</td>\n",
       "    </tr>\n",
       "    <tr>\n",
       "      <th>146</th>\n",
       "      <td>6.3</td>\n",
       "      <td>2.5</td>\n",
       "      <td>5.0</td>\n",
       "      <td>1.9</td>\n",
       "    </tr>\n",
       "    <tr>\n",
       "      <th>147</th>\n",
       "      <td>6.5</td>\n",
       "      <td>3.0</td>\n",
       "      <td>5.2</td>\n",
       "      <td>2.0</td>\n",
       "    </tr>\n",
       "    <tr>\n",
       "      <th>148</th>\n",
       "      <td>6.2</td>\n",
       "      <td>3.4</td>\n",
       "      <td>5.4</td>\n",
       "      <td>2.3</td>\n",
       "    </tr>\n",
       "    <tr>\n",
       "      <th>149</th>\n",
       "      <td>5.9</td>\n",
       "      <td>3.0</td>\n",
       "      <td>5.1</td>\n",
       "      <td>1.8</td>\n",
       "    </tr>\n",
       "  </tbody>\n",
       "</table>\n",
       "<p>150 rows × 4 columns</p>\n",
       "</div>"
      ],
      "text/plain": [
       "     SepalLengthCm  SepalWidthCm  PetalLengthCm  PetalWidthCm\n",
       "0              5.1           3.5            1.4           0.2\n",
       "1              4.9           3.0            1.4           0.2\n",
       "2              4.7           3.2            1.3           0.2\n",
       "3              4.6           3.1            1.5           0.2\n",
       "4              5.0           3.6            1.4           0.2\n",
       "..             ...           ...            ...           ...\n",
       "145            6.7           3.0            5.2           2.3\n",
       "146            6.3           2.5            5.0           1.9\n",
       "147            6.5           3.0            5.2           2.0\n",
       "148            6.2           3.4            5.4           2.3\n",
       "149            5.9           3.0            5.1           1.8\n",
       "\n",
       "[150 rows x 4 columns]"
      ]
     },
     "execution_count": 75,
     "metadata": {},
     "output_type": "execute_result"
    }
   ],
   "source": [
    "data = pd.read_csv('iris.csv')\n",
    "data.drop(columns=['Id', 'Species'], axis=1, inplace=True)\n",
    "data"
   ]
  },
  {
   "cell_type": "code",
   "execution_count": 76,
   "metadata": {},
   "outputs": [],
   "source": [
    "def single_linkage(cutoff,distance_matrix,df):\n",
    "    d = {} \n",
    "    for i in range(0,cutoff):\n",
    "        ij_min = np.unravel_index(distance_matrix.argmin(), distance_matrix.shape) \n",
    "        if i == 0:\n",
    "            df.iloc[ij_min[0]] = 0\n",
    "            df.iloc[ij_min[1]] = 0\n",
    "        else:\n",
    "            try:\n",
    "                a = int(df.iloc[ij_min[0]])\n",
    "            except:\n",
    "                df.iloc[ij_min[0]] = i\n",
    "                a = i\n",
    "            try:\n",
    "                b = int(df.iloc[ij_min[1]])\n",
    "            except:\n",
    "                df.iloc[ij_min[1]] = i\n",
    "                b = i\n",
    "            df[(df[0]==a) | (df[0]==b)] = i\n",
    "        d[i] = ij_min\n",
    "        \n",
    "        for j in range(0, ij_min[0]):    \n",
    "            if np.isfinite(distance_matrix[ij_min[0]][j]) and np.isfinite(distance_matrix[ij_min[1]][j]):\n",
    "                distance_matrix[ij_min[1]][j] = min(distance_matrix[ij_min[0]][j], distance_matrix[ij_min[1]][j])\n",
    "        \n",
    "        distance_matrix[ij_min[0]] = np.inf\n",
    "    return d, df[0].to_numpy()"
   ]
  },
  {
   "cell_type": "code",
   "execution_count": 77,
   "metadata": {},
   "outputs": [],
   "source": [
    "def complete_linkage(cutoff,distance_matrix,df):\n",
    "    d_complete = {}\n",
    "    for i in range(0,cutoff):\n",
    "        ij_min = np.unravel_index(distance_matrix.argmin(), distance_matrix.shape)\n",
    "        if i == 0:\n",
    "            df.iloc[ij_min[0]] = 0\n",
    "            df.iloc[ij_min[1]] = 0\n",
    "        else:\n",
    "            try:\n",
    "                a = int(df.iloc[ij_min[0]])\n",
    "            except:\n",
    "                df.iloc[ij_min[0]] = i\n",
    "                a = i\n",
    "            try:\n",
    "                b = int(df.iloc[ij_min[1]])\n",
    "            except:\n",
    "                df.iloc[ij_min[1]] = i\n",
    "                b = i\n",
    "            df[(df[0]==a) | (df[0]==b)] = i\n",
    "        d_complete[i] = ij_min\n",
    "        for j in range(0, ij_min[0]):\n",
    "            if np.isfinite(distance_matrix[ij_min[0]][j]) and np.isfinite(distance_matrix[ij_min[1]][j]):\n",
    "                \n",
    "                distance_matrix[ij_min[1]][j] = max(distance_matrix[ij_min[0]][j], distance_matrix[ij_min[1]][j])\n",
    "        distance_matrix[ij_min[0]] = np.inf\n",
    "    return d_complete, df[0].to_numpy()"
   ]
  },
  {
   "cell_type": "code",
   "execution_count": 78,
   "metadata": {},
   "outputs": [],
   "source": [
    "def average_linkage(cutoff,distance_matrix,df):\n",
    "    d_average = {}\n",
    "    for i in range(0,cutoff):\n",
    "        ij_min = np.unravel_index(distance_matrix.argmin(), distance_matrix.shape)\n",
    "        if i == 0:\n",
    "            df.iloc[ij_min[0]] = 0\n",
    "            df.iloc[ij_min[1]] = 0\n",
    "        else:\n",
    "            try:\n",
    "                a = int(df.iloc[ij_min[0]])\n",
    "            except:\n",
    "                df.iloc[ij_min[0]] = i\n",
    "                a = i\n",
    "            try:\n",
    "                b = int(df.iloc[ij_min[1]])\n",
    "            except:\n",
    "                df.iloc[ij_min[1]] = i\n",
    "                b = i\n",
    "            df[(df[0]==a) | (df[0]==b)] = i\n",
    "        d_average[i] = ij_min\n",
    "        for j in range(0, ij_min[0]):\n",
    "            if np.isfinite(distance_matrix[ij_min[0]][j]) and np.isfinite(distance_matrix[ij_min[1]][j]):\n",
    "                \n",
    "                distance_matrix[ij_min[1]][j] = (distance_matrix[ij_min[0]][j] + distance_matrix[ij_min[1]][j])/2.0          \n",
    "        distance_matrix[ij_min[0]] = np.inf\n",
    "    return d_average, df[0].to_numpy()"
   ]
  },
  {
   "cell_type": "code",
   "execution_count": 79,
   "metadata": {},
   "outputs": [],
   "source": [
    "def AHC(data, cutoff, linkage):\n",
    "    distance_matrix = euclidean_distances(data, data) \n",
    "    distance_matrix = np.tril(distance_matrix) \n",
    "    distance_matrix[distance_matrix == 0] = np.inf \n",
    "    df = pd.DataFrame(data=np.ones(data.shape[0])*np.inf) \n",
    "    if cutoff > distance_matrix.shape[0]: \n",
    "        cutoff = distance_matrix.shape[0]\n",
    "    if linkage == 1: \n",
    "       return single_linkage(cutoff,distance_matrix,df)\n",
    "    elif linkage == 2:\n",
    "        return complete_linkage(cutoff,distance_matrix,df)\n",
    "    elif linkage == 3:\n",
    "        return average_linkage(cutoff,distance_matrix,df)"
   ]
  },
  {
   "cell_type": "code",
   "execution_count": 80,
   "metadata": {},
   "outputs": [],
   "source": [
    "iris_data = np.array(data)\n",
    "data_set, target = AHC(iris_data,147,1) # for single_linkage\n",
    "# data_set, target = AHC(iris_data, 147,2) # for single_linkage\n",
    "# data_set, target = AHC(iris_data, 147,3) # for single_linkage"
   ]
  },
  {
   "cell_type": "code",
   "execution_count": 81,
   "metadata": {},
   "outputs": [
    {
     "data": {
      "text/plain": [
       "{0: (39, 7),\n",
       " 1: (132, 128),\n",
       " 2: (17, 0),\n",
       " 3: (48, 10),\n",
       " 4: (91, 63),\n",
       " 5: (92, 82),\n",
       " 6: (96, 95),\n",
       " 7: (4, 0),\n",
       " 8: (7, 0),\n",
       " 9: (28, 0),\n",
       " 10: (40, 17),\n",
       " 11: (47, 3),\n",
       " 12: (81, 80),\n",
       " 13: (137, 116),\n",
       " 14: (3, 2),\n",
       " 15: (12, 1),\n",
       " 16: (21, 19),\n",
       " 17: (38, 8),\n",
       " 18: (46, 19),\n",
       " 19: (49, 7),\n",
       " 20: (27, 0),\n",
       " 21: (30, 29),\n",
       " 22: (45, 1),\n",
       " 23: (75, 65),\n",
       " 24: (93, 57),\n",
       " 25: (99, 96),\n",
       " 26: (138, 127),\n",
       " 27: (9, 1),\n",
       " 28: (29, 9),\n",
       " 29: (34, 1),\n",
       " 30: (37, 1),\n",
       " 31: (95, 88),\n",
       " 32: (80, 69),\n",
       " 33: (126, 123),\n",
       " 34: (139, 112),\n",
       " 35: (26, 23),\n",
       " 36: (42, 38),\n",
       " 37: (89, 53),\n",
       " 38: (25, 9),\n",
       " 39: (97, 74),\n",
       " 40: (84, 66),\n",
       " 41: (143, 120),\n",
       " 42: (73, 63),\n",
       " 43: (127, 70),\n",
       " 44: (11, 7),\n",
       " 45: (43, 26),\n",
       " 46: (147, 110),\n",
       " 47: (23, 7),\n",
       " 48: (82, 67),\n",
       " 49: (116, 103),\n",
       " 50: (19, 17),\n",
       " 51: (58, 54),\n",
       " 52: (65, 58),\n",
       " 53: (78, 63),\n",
       " 54: (145, 141),\n",
       " 55: (146, 123),\n",
       " 56: (148, 136),\n",
       " 57: (144, 140),\n",
       " 58: (94, 90),\n",
       " 59: (87, 68),\n",
       " 60: (122, 105),\n",
       " 61: (140, 120),\n",
       " 62: (6, 2),\n",
       " 63: (52, 50),\n",
       " 64: (56, 51),\n",
       " 65: (113, 101),\n",
       " 66: (130, 107),\n",
       " 67: (142, 113),\n",
       " 68: (149, 127),\n",
       " 69: (31, 20),\n",
       " 70: (86, 52),\n",
       " 71: (124, 120),\n",
       " 72: (136, 115),\n",
       " 73: (24, 11),\n",
       " 74: (36, 10),\n",
       " 75: (66, 55),\n",
       " 76: (88, 61),\n",
       " 77: (128, 104),\n",
       " 78: (69, 53),\n",
       " 79: (2, 1),\n",
       " 80: (8, 3),\n",
       " 81: (10, 0),\n",
       " 82: (35, 1),\n",
       " 83: (90, 89),\n",
       " 84: (61, 55),\n",
       " 85: (121, 101),\n",
       " 86: (76, 58),\n",
       " 87: (77, 52),\n",
       " 88: (104, 103),\n",
       " 89: (74, 71),\n",
       " 90: (63, 61),\n",
       " 91: (133, 83),\n",
       " 92: (18, 5),\n",
       " 93: (33, 32),\n",
       " 94: (120, 112),\n",
       " 95: (16, 10),\n",
       " 96: (13, 8),\n",
       " 97: (20, 17),\n",
       " 98: (129, 125),\n",
       " 99: (32, 15),\n",
       " 100: (101, 83),\n",
       " 101: (123, 72),\n",
       " 102: (71, 58),\n",
       " 103: (83, 72),\n",
       " 104: (112, 104),\n",
       " 105: (141, 139),\n",
       " 106: (1, 0),\n",
       " 107: (85, 56),\n",
       " 108: (44, 5),\n",
       " 109: (115, 110),\n",
       " 110: (111, 103),\n",
       " 111: (125, 102),\n",
       " 112: (98, 57),\n",
       " 113: (110, 77),\n",
       " 114: (131, 117),\n",
       " 115: (15, 14),\n",
       " 116: (67, 64),\n",
       " 117: (54, 51),\n",
       " 118: (70, 63),\n",
       " 119: (72, 63),\n",
       " 120: (64, 53),\n",
       " 121: (79, 69),\n",
       " 122: (119, 72),\n",
       " 123: (14, 10),\n",
       " 124: (22, 6),\n",
       " 125: (60, 57),\n",
       " 126: (107, 102),\n",
       " 127: (114, 101),\n",
       " 128: (103, 100),\n",
       " 129: (59, 53),\n",
       " 130: (51, 50),\n",
       " 131: (134, 103),\n",
       " 132: (135, 130),\n",
       " 133: (100, 83),\n",
       " 134: (118, 105),\n",
       " 135: (5, 4),\n",
       " 136: (62, 53),\n",
       " 137: (68, 62),\n",
       " 138: (108, 103),\n",
       " 139: (55, 51),\n",
       " 140: (41, 8),\n",
       " 141: (106, 84),\n",
       " 142: (109, 102),\n",
       " 143: (117, 105),\n",
       " 144: (57, 53),\n",
       " 145: (105, 102),\n",
       " 146: (102, 100)}"
      ]
     },
     "execution_count": 81,
     "metadata": {},
     "output_type": "execute_result"
    }
   ],
   "source": [
    "data_set"
   ]
  },
  {
   "cell_type": "code",
   "execution_count": 82,
   "metadata": {},
   "outputs": [
    {
     "data": {
      "text/plain": [
       "array([140., 140., 140., 140., 140., 140., 140., 140., 140., 140., 140.,\n",
       "       140., 140., 140., 140., 140., 140., 140., 140., 140., 140., 140.,\n",
       "       140., 140., 140., 140., 140., 140., 140., 140., 140., 140., 140.,\n",
       "       140., 140., 140., 140., 140., 140., 140., 140., 140., 140., 140.,\n",
       "       140., 140., 140., 140., 140., 140., 146., 146., 146., 144., 146.,\n",
       "       146., 146., 144., 146., 144., 144., 146., 144., 146., 144., 146.,\n",
       "       146., 144., 144., 144., 146., 146., 146., 146., 146., 146., 146.,\n",
       "       146., 146., 144., 144., 144., 144., 146., 146., 146., 146., 144.,\n",
       "       146., 144., 144., 146., 144., 144., 144., 146., 146., 146., 144.,\n",
       "       146., 146., 146., 146., 146., 146., 146., 146., 146., 146., 146.,\n",
       "       146., 146., 146., 146., 146., 146., 146., 146., 146., 146., 146.,\n",
       "       146., 146., 146., 146., 146., 146., 146., 146., 146., 146., 146.,\n",
       "       146., 146., 146., 146., 146., 146., 146., 146., 146., 146., 146.,\n",
       "       146., 146., 146., 146., 146., 146., 146.])"
      ]
     },
     "execution_count": 82,
     "metadata": {},
     "output_type": "execute_result"
    }
   ],
   "source": [
    "target"
   ]
  },
  {
   "cell_type": "code",
   "execution_count": 83,
   "metadata": {},
   "outputs": [],
   "source": [
    "target[target == 140] = 0\n",
    "target[target == 144] = 1\n",
    "target[target == 146] = 2"
   ]
  },
  {
   "cell_type": "code",
   "execution_count": 84,
   "metadata": {},
   "outputs": [
    {
     "data": {
      "text/plain": [
       "array([0., 0., 0., 0., 0., 0., 0., 0., 0., 0., 0., 0., 0., 0., 0., 0., 0.,\n",
       "       0., 0., 0., 0., 0., 0., 0., 0., 0., 0., 0., 0., 0., 0., 0., 0., 0.,\n",
       "       0., 0., 0., 0., 0., 0., 0., 0., 0., 0., 0., 0., 0., 0., 0., 0., 2.,\n",
       "       2., 2., 1., 2., 2., 2., 1., 2., 1., 1., 2., 1., 2., 1., 2., 2., 1.,\n",
       "       1., 1., 2., 2., 2., 2., 2., 2., 2., 2., 2., 1., 1., 1., 1., 2., 2.,\n",
       "       2., 2., 1., 2., 1., 1., 2., 1., 1., 1., 2., 2., 2., 1., 2., 2., 2.,\n",
       "       2., 2., 2., 2., 2., 2., 2., 2., 2., 2., 2., 2., 2., 2., 2., 2., 2.,\n",
       "       2., 2., 2., 2., 2., 2., 2., 2., 2., 2., 2., 2., 2., 2., 2., 2., 2.,\n",
       "       2., 2., 2., 2., 2., 2., 2., 2., 2., 2., 2., 2., 2., 2.])"
      ]
     },
     "execution_count": 84,
     "metadata": {},
     "output_type": "execute_result"
    }
   ],
   "source": [
    "target"
   ]
  },
  {
   "cell_type": "code",
   "execution_count": 85,
   "metadata": {},
   "outputs": [
    {
     "data": {
      "image/png": "[encoded data removed]",
      "text/plain": [
       "<Figure size 432x288 with 1 Axes>"
      ]
     },
     "metadata": {
      "needs_background": "light"
     },
     "output_type": "display_data"
    }
   ],
   "source": [
    "plt.scatter(iris_data[:,1], iris_data[:,2], c=target)\n",
    "plt.show()"
   ]
  },
  {
   "cell_type": "code",
   "execution_count": 86,
   "metadata": {},
   "outputs": [
    {
     "data": {
      "image/png": "[encoded data removed]",
      "text/plain": [
       "<Figure size 432x288 with 1 Axes>"
      ]
     },
     "metadata": {
      "needs_background": "light"
     },
     "output_type": "display_data"
    }
   ],
   "source": [
    "plt.scatter(iris_data[:,2], iris_data[:,3], c=target)\n",
    "plt.show()"
   ]
  },
  {
   "cell_type": "code",
   "execution_count": 87,
   "metadata": {},
   "outputs": [
    {
     "data": {
      "image/png": "[encoded data removed]",
      "text/plain": [
       "<Figure size 432x288 with 1 Axes>"
      ]
     },
     "metadata": {
      "needs_background": "light"
     },
     "output_type": "display_data"
    }
   ],
   "source": [
    "plt.scatter(iris_data[:,1], iris_data[:,3], c=target)\n",
    "plt.show()"
   ]
  }
 ],
 "metadata": {
  "kernelspec": {
   "display_name": "Python 3.10.1 ('mlpython': venv)",
   "language": "python",
   "name": "python3"
  },
  "language_info": {
   "codemirror_mode": {
    "name": "ipython",
    "version": 3
   },
   "file_extension": ".py",
   "mimetype": "text/x-python",
   "name": "python",
   "nbconvert_exporter": "python",
   "pygments_lexer": "ipython3",
   "version": "3.10.1"
  },
  "orig_nbformat": 4,
  "vscode": {
   "interpreter": {
    "hash": "a58a05e89c12b3f4ae4e11e606f896b129694445df3e4fafe219fa71e4f9c2b4"
   }
  }
 },
 "nbformat": 4,
 "nbformat_minor": 2
}
